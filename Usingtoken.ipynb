{
  "nbformat": 4,
  "nbformat_minor": 0,
  "metadata": {
    "colab": {
      "provenance": [],
      "authorship_tag": "ABX9TyPDKXUSTNIbMJFeJ/fMpJ7R"
    },
    "kernelspec": {
      "name": "python3",
      "display_name": "Python 3"
    },
    "language_info": {
      "name": "python"
    }
  },
  "cells": [
    {
      "cell_type": "code",
      "execution_count": null,
      "metadata": {
        "colab": {
          "base_uri": "https://localhost:8080/"
        },
        "id": "HpPqUHpJirRo",
        "outputId": "ad9cc347-5049-466d-d3f7-59ff974ed18b"
      },
      "outputs": [
        {
          "output_type": "stream",
          "name": "stdout",
          "text": [
            "Downloading from https://www.kaggle.com/api/v1/datasets/download/venky73/spam-mails-dataset?dataset_version_number=1...\n"
          ]
        },
        {
          "output_type": "stream",
          "name": "stderr",
          "text": [
            "100%|██████████| 1.86M/1.86M [00:00<00:00, 2.50MB/s]"
          ]
        },
        {
          "output_type": "stream",
          "name": "stdout",
          "text": [
            "Extracting files...\n"
          ]
        },
        {
          "output_type": "stream",
          "name": "stderr",
          "text": [
            "\n"
          ]
        },
        {
          "output_type": "stream",
          "name": "stdout",
          "text": [
            "Path to dataset files: /root/.cache/kagglehub/datasets/venky73/spam-mails-dataset/versions/1\n"
          ]
        }
      ],
      "source": [
        "import kagglehub\n",
        "\n",
        "# Download latest version\n",
        "path = kagglehub.dataset_download(\"venky73/spam-mails-dataset\")\n",
        "\n",
        "print(\"Path to dataset files:\", path)"
      ]
    },
    {
      "cell_type": "code",
      "source": [
        "import os\n",
        "print(os.listdir(path))"
      ],
      "metadata": {
        "colab": {
          "base_uri": "https://localhost:8080/"
        },
        "id": "dbWM7qFRi6Tw",
        "outputId": "7bf89182-3a4e-4c76-ed3a-aebc7020c559"
      },
      "execution_count": null,
      "outputs": [
        {
          "output_type": "stream",
          "name": "stdout",
          "text": [
            "['spam_ham_dataset.csv']\n"
          ]
        }
      ]
    },
    {
      "cell_type": "code",
      "source": [
        "import pandas as pd\n",
        "\n",
        "# Read CSV file\n",
        "file_path = os.path.join(path, \"spam_ham_dataset.csv\")\n",
        "df = pd.read_csv(file_path)\n",
        "\n",
        "print(\"Data preview:\")\n",
        "print(df.head())"
      ],
      "metadata": {
        "colab": {
          "base_uri": "https://localhost:8080/"
        },
        "id": "6C5eovh7i7ii",
        "outputId": "366f7bad-fab5-4494-80c7-fa7e957617f2"
      },
      "execution_count": null,
      "outputs": [
        {
          "output_type": "stream",
          "name": "stdout",
          "text": [
            "Data preview:\n",
            "   Unnamed: 0 label  \\\n",
            "0         605   ham   \n",
            "1        2349   ham   \n",
            "2        3624   ham   \n",
            "3        4685  spam   \n",
            "4        2030   ham   \n",
            "\n",
            "                                                                                                  text  \\\n",
            "0  Subject: enron methanol ; meter # : 988291\\r\\nthis is a follow up to the note i gave you on mond...   \n",
            "1  Subject: hpl nom for january 9 , 2001\\r\\n( see attached file : hplnol 09 . xls )\\r\\n- hplnol 09 ...   \n",
            "2  Subject: neon retreat\\r\\nho ho ho , we ' re around to that most wonderful time of the year - - -...   \n",
            "3  Subject: photoshop , windows , office . cheap . main trending\\r\\nabasements darer prudently fort...   \n",
            "4  Subject: re : indian springs\\r\\nthis deal is to book the teco pvr revenue . it is my understandi...   \n",
            "\n",
            "   label_num  \n",
            "0          0  \n",
            "1          0  \n",
            "2          0  \n",
            "3          1  \n",
            "4          0  \n"
          ]
        }
      ]
    },
    {
      "cell_type": "code",
      "source": [
        "\n",
        "import os\n",
        "import pandas as pd\n",
        "import numpy as np\n",
        "from IPython.display import display\n",
        "\n",
        "# Set display options to show more rows and wider columns\n",
        "pd.set_option(\"display.max_rows\", 999)\n",
        "pd.set_option(\"display.max_colwidth\", 100)\n",
        "\n",
        "# Define the file path and load the data\n",
        "file_path = os.path.join(path, \"spam_ham_dataset.csv\")\n",
        "emails = pd.read_csv(file_path)\n",
        "\n",
        "# Print dataset dimensions and preview the first few rows\n",
        "print(\"Successfully loaded {} rows and {} columns!\".format(emails.shape[0], emails.shape[1]))\n",
        "display(emails.head())  # Directly using"
      ],
      "metadata": {
        "colab": {
          "base_uri": "https://localhost:8080/",
          "height": 244
        },
        "id": "kn7xXkTUjHD-",
        "outputId": "0e74bea3-79e5-4ad5-db8f-1b6b44b89857"
      },
      "execution_count": null,
      "outputs": [
        {
          "output_type": "stream",
          "name": "stdout",
          "text": [
            "Successfully loaded 5171 rows and 4 columns!\n"
          ]
        },
        {
          "output_type": "display_data",
          "data": {
            "text/plain": [
              "   Unnamed: 0 label  \\\n",
              "0         605   ham   \n",
              "1        2349   ham   \n",
              "2        3624   ham   \n",
              "3        4685  spam   \n",
              "4        2030   ham   \n",
              "\n",
              "                                                                                                  text  \\\n",
              "0  Subject: enron methanol ; meter # : 988291\\r\\nthis is a follow up to the note i gave you on mond...   \n",
              "1  Subject: hpl nom for january 9 , 2001\\r\\n( see attached file : hplnol 09 . xls )\\r\\n- hplnol 09 ...   \n",
              "2  Subject: neon retreat\\r\\nho ho ho , we ' re around to that most wonderful time of the year - - -...   \n",
              "3  Subject: photoshop , windows , office . cheap . main trending\\r\\nabasements darer prudently fort...   \n",
              "4  Subject: re : indian springs\\r\\nthis deal is to book the teco pvr revenue . it is my understandi...   \n",
              "\n",
              "   label_num  \n",
              "0          0  \n",
              "1          0  \n",
              "2          0  \n",
              "3          1  \n",
              "4          0  "
            ],
            "text/html": [
              "\n",
              "  <div id=\"df-e9e39d54-dced-4fdb-a181-0fcca4b543f5\" class=\"colab-df-container\">\n",
              "    <div>\n",
              "<style scoped>\n",
              "    .dataframe tbody tr th:only-of-type {\n",
              "        vertical-align: middle;\n",
              "    }\n",
              "\n",
              "    .dataframe tbody tr th {\n",
              "        vertical-align: top;\n",
              "    }\n",
              "\n",
              "    .dataframe thead th {\n",
              "        text-align: right;\n",
              "    }\n",
              "</style>\n",
              "<table border=\"1\" class=\"dataframe\">\n",
              "  <thead>\n",
              "    <tr style=\"text-align: right;\">\n",
              "      <th></th>\n",
              "      <th>Unnamed: 0</th>\n",
              "      <th>label</th>\n",
              "      <th>text</th>\n",
              "      <th>label_num</th>\n",
              "    </tr>\n",
              "  </thead>\n",
              "  <tbody>\n",
              "    <tr>\n",
              "      <th>0</th>\n",
              "      <td>605</td>\n",
              "      <td>ham</td>\n",
              "      <td>Subject: enron methanol ; meter # : 988291\\r\\nthis is a follow up to the note i gave you on mond...</td>\n",
              "      <td>0</td>\n",
              "    </tr>\n",
              "    <tr>\n",
              "      <th>1</th>\n",
              "      <td>2349</td>\n",
              "      <td>ham</td>\n",
              "      <td>Subject: hpl nom for january 9 , 2001\\r\\n( see attached file : hplnol 09 . xls )\\r\\n- hplnol 09 ...</td>\n",
              "      <td>0</td>\n",
              "    </tr>\n",
              "    <tr>\n",
              "      <th>2</th>\n",
              "      <td>3624</td>\n",
              "      <td>ham</td>\n",
              "      <td>Subject: neon retreat\\r\\nho ho ho , we ' re around to that most wonderful time of the year - - -...</td>\n",
              "      <td>0</td>\n",
              "    </tr>\n",
              "    <tr>\n",
              "      <th>3</th>\n",
              "      <td>4685</td>\n",
              "      <td>spam</td>\n",
              "      <td>Subject: photoshop , windows , office . cheap . main trending\\r\\nabasements darer prudently fort...</td>\n",
              "      <td>1</td>\n",
              "    </tr>\n",
              "    <tr>\n",
              "      <th>4</th>\n",
              "      <td>2030</td>\n",
              "      <td>ham</td>\n",
              "      <td>Subject: re : indian springs\\r\\nthis deal is to book the teco pvr revenue . it is my understandi...</td>\n",
              "      <td>0</td>\n",
              "    </tr>\n",
              "  </tbody>\n",
              "</table>\n",
              "</div>\n",
              "    <div class=\"colab-df-buttons\">\n",
              "\n",
              "  <div class=\"colab-df-container\">\n",
              "    <button class=\"colab-df-convert\" onclick=\"convertToInteractive('df-e9e39d54-dced-4fdb-a181-0fcca4b543f5')\"\n",
              "            title=\"Convert this dataframe to an interactive table.\"\n",
              "            style=\"display:none;\">\n",
              "\n",
              "  <svg xmlns=\"http://www.w3.org/2000/svg\" height=\"24px\" viewBox=\"0 -960 960 960\">\n",
              "    <path d=\"M120-120v-720h720v720H120Zm60-500h600v-160H180v160Zm220 220h160v-160H400v160Zm0 220h160v-160H400v160ZM180-400h160v-160H180v160Zm440 0h160v-160H620v160ZM180-180h160v-160H180v160Zm440 0h160v-160H620v160Z\"/>\n",
              "  </svg>\n",
              "    </button>\n",
              "\n",
              "  <style>\n",
              "    .colab-df-container {\n",
              "      display:flex;\n",
              "      gap: 12px;\n",
              "    }\n",
              "\n",
              "    .colab-df-convert {\n",
              "      background-color: #E8F0FE;\n",
              "      border: none;\n",
              "      border-radius: 50%;\n",
              "      cursor: pointer;\n",
              "      display: none;\n",
              "      fill: #1967D2;\n",
              "      height: 32px;\n",
              "      padding: 0 0 0 0;\n",
              "      width: 32px;\n",
              "    }\n",
              "\n",
              "    .colab-df-convert:hover {\n",
              "      background-color: #E2EBFA;\n",
              "      box-shadow: 0px 1px 2px rgba(60, 64, 67, 0.3), 0px 1px 3px 1px rgba(60, 64, 67, 0.15);\n",
              "      fill: #174EA6;\n",
              "    }\n",
              "\n",
              "    .colab-df-buttons div {\n",
              "      margin-bottom: 4px;\n",
              "    }\n",
              "\n",
              "    [theme=dark] .colab-df-convert {\n",
              "      background-color: #3B4455;\n",
              "      fill: #D2E3FC;\n",
              "    }\n",
              "\n",
              "    [theme=dark] .colab-df-convert:hover {\n",
              "      background-color: #434B5C;\n",
              "      box-shadow: 0px 1px 3px 1px rgba(0, 0, 0, 0.15);\n",
              "      filter: drop-shadow(0px 1px 2px rgba(0, 0, 0, 0.3));\n",
              "      fill: #FFFFFF;\n",
              "    }\n",
              "  </style>\n",
              "\n",
              "    <script>\n",
              "      const buttonEl =\n",
              "        document.querySelector('#df-e9e39d54-dced-4fdb-a181-0fcca4b543f5 button.colab-df-convert');\n",
              "      buttonEl.style.display =\n",
              "        google.colab.kernel.accessAllowed ? 'block' : 'none';\n",
              "\n",
              "      async function convertToInteractive(key) {\n",
              "        const element = document.querySelector('#df-e9e39d54-dced-4fdb-a181-0fcca4b543f5');\n",
              "        const dataTable =\n",
              "          await google.colab.kernel.invokeFunction('convertToInteractive',\n",
              "                                                    [key], {});\n",
              "        if (!dataTable) return;\n",
              "\n",
              "        const docLinkHtml = 'Like what you see? Visit the ' +\n",
              "          '<a target=\"_blank\" href=https://colab.research.google.com/notebooks/data_table.ipynb>data table notebook</a>'\n",
              "          + ' to learn more about interactive tables.';\n",
              "        element.innerHTML = '';\n",
              "        dataTable['output_type'] = 'display_data';\n",
              "        await google.colab.output.renderOutput(dataTable, element);\n",
              "        const docLink = document.createElement('div');\n",
              "        docLink.innerHTML = docLinkHtml;\n",
              "        element.appendChild(docLink);\n",
              "      }\n",
              "    </script>\n",
              "  </div>\n",
              "\n",
              "\n",
              "<div id=\"df-53c360ec-2826-4177-996f-d137c3318ec5\">\n",
              "  <button class=\"colab-df-quickchart\" onclick=\"quickchart('df-53c360ec-2826-4177-996f-d137c3318ec5')\"\n",
              "            title=\"Suggest charts\"\n",
              "            style=\"display:none;\">\n",
              "\n",
              "<svg xmlns=\"http://www.w3.org/2000/svg\" height=\"24px\"viewBox=\"0 0 24 24\"\n",
              "     width=\"24px\">\n",
              "    <g>\n",
              "        <path d=\"M19 3H5c-1.1 0-2 .9-2 2v14c0 1.1.9 2 2 2h14c1.1 0 2-.9 2-2V5c0-1.1-.9-2-2-2zM9 17H7v-7h2v7zm4 0h-2V7h2v10zm4 0h-2v-4h2v4z\"/>\n",
              "    </g>\n",
              "</svg>\n",
              "  </button>\n",
              "\n",
              "<style>\n",
              "  .colab-df-quickchart {\n",
              "      --bg-color: #E8F0FE;\n",
              "      --fill-color: #1967D2;\n",
              "      --hover-bg-color: #E2EBFA;\n",
              "      --hover-fill-color: #174EA6;\n",
              "      --disabled-fill-color: #AAA;\n",
              "      --disabled-bg-color: #DDD;\n",
              "  }\n",
              "\n",
              "  [theme=dark] .colab-df-quickchart {\n",
              "      --bg-color: #3B4455;\n",
              "      --fill-color: #D2E3FC;\n",
              "      --hover-bg-color: #434B5C;\n",
              "      --hover-fill-color: #FFFFFF;\n",
              "      --disabled-bg-color: #3B4455;\n",
              "      --disabled-fill-color: #666;\n",
              "  }\n",
              "\n",
              "  .colab-df-quickchart {\n",
              "    background-color: var(--bg-color);\n",
              "    border: none;\n",
              "    border-radius: 50%;\n",
              "    cursor: pointer;\n",
              "    display: none;\n",
              "    fill: var(--fill-color);\n",
              "    height: 32px;\n",
              "    padding: 0;\n",
              "    width: 32px;\n",
              "  }\n",
              "\n",
              "  .colab-df-quickchart:hover {\n",
              "    background-color: var(--hover-bg-color);\n",
              "    box-shadow: 0 1px 2px rgba(60, 64, 67, 0.3), 0 1px 3px 1px rgba(60, 64, 67, 0.15);\n",
              "    fill: var(--button-hover-fill-color);\n",
              "  }\n",
              "\n",
              "  .colab-df-quickchart-complete:disabled,\n",
              "  .colab-df-quickchart-complete:disabled:hover {\n",
              "    background-color: var(--disabled-bg-color);\n",
              "    fill: var(--disabled-fill-color);\n",
              "    box-shadow: none;\n",
              "  }\n",
              "\n",
              "  .colab-df-spinner {\n",
              "    border: 2px solid var(--fill-color);\n",
              "    border-color: transparent;\n",
              "    border-bottom-color: var(--fill-color);\n",
              "    animation:\n",
              "      spin 1s steps(1) infinite;\n",
              "  }\n",
              "\n",
              "  @keyframes spin {\n",
              "    0% {\n",
              "      border-color: transparent;\n",
              "      border-bottom-color: var(--fill-color);\n",
              "      border-left-color: var(--fill-color);\n",
              "    }\n",
              "    20% {\n",
              "      border-color: transparent;\n",
              "      border-left-color: var(--fill-color);\n",
              "      border-top-color: var(--fill-color);\n",
              "    }\n",
              "    30% {\n",
              "      border-color: transparent;\n",
              "      border-left-color: var(--fill-color);\n",
              "      border-top-color: var(--fill-color);\n",
              "      border-right-color: var(--fill-color);\n",
              "    }\n",
              "    40% {\n",
              "      border-color: transparent;\n",
              "      border-right-color: var(--fill-color);\n",
              "      border-top-color: var(--fill-color);\n",
              "    }\n",
              "    60% {\n",
              "      border-color: transparent;\n",
              "      border-right-color: var(--fill-color);\n",
              "    }\n",
              "    80% {\n",
              "      border-color: transparent;\n",
              "      border-right-color: var(--fill-color);\n",
              "      border-bottom-color: var(--fill-color);\n",
              "    }\n",
              "    90% {\n",
              "      border-color: transparent;\n",
              "      border-bottom-color: var(--fill-color);\n",
              "    }\n",
              "  }\n",
              "</style>\n",
              "\n",
              "  <script>\n",
              "    async function quickchart(key) {\n",
              "      const quickchartButtonEl =\n",
              "        document.querySelector('#' + key + ' button');\n",
              "      quickchartButtonEl.disabled = true;  // To prevent multiple clicks.\n",
              "      quickchartButtonEl.classList.add('colab-df-spinner');\n",
              "      try {\n",
              "        const charts = await google.colab.kernel.invokeFunction(\n",
              "            'suggestCharts', [key], {});\n",
              "      } catch (error) {\n",
              "        console.error('Error during call to suggestCharts:', error);\n",
              "      }\n",
              "      quickchartButtonEl.classList.remove('colab-df-spinner');\n",
              "      quickchartButtonEl.classList.add('colab-df-quickchart-complete');\n",
              "    }\n",
              "    (() => {\n",
              "      let quickchartButtonEl =\n",
              "        document.querySelector('#df-53c360ec-2826-4177-996f-d137c3318ec5 button');\n",
              "      quickchartButtonEl.style.display =\n",
              "        google.colab.kernel.accessAllowed ? 'block' : 'none';\n",
              "    })();\n",
              "  </script>\n",
              "</div>\n",
              "\n",
              "    </div>\n",
              "  </div>\n"
            ],
            "application/vnd.google.colaboratory.intrinsic+json": {
              "type": "dataframe",
              "summary": "{\n  \"name\": \"display(emails\",\n  \"rows\": 5,\n  \"fields\": [\n    {\n      \"column\": \"Unnamed: 0\",\n      \"properties\": {\n        \"dtype\": \"number\",\n        \"std\": 1560,\n        \"min\": 605,\n        \"max\": 4685,\n        \"num_unique_values\": 5,\n        \"samples\": [\n          2349,\n          2030,\n          3624\n        ],\n        \"semantic_type\": \"\",\n        \"description\": \"\"\n      }\n    },\n    {\n      \"column\": \"label\",\n      \"properties\": {\n        \"dtype\": \"category\",\n        \"num_unique_values\": 2,\n        \"samples\": [\n          \"spam\",\n          \"ham\"\n        ],\n        \"semantic_type\": \"\",\n        \"description\": \"\"\n      }\n    },\n    {\n      \"column\": \"text\",\n      \"properties\": {\n        \"dtype\": \"string\",\n        \"num_unique_values\": 5,\n        \"samples\": [\n          \"Subject: hpl nom for january 9 , 2001\\r\\n( see attached file : hplnol 09 . xls )\\r\\n- hplnol 09 . xls\",\n          \"Subject: re : indian springs\\r\\nthis deal is to book the teco pvr revenue . it is my understanding that teco\\r\\njust sends us a check , i haven ' t received an answer as to whether there is a\\r\\npredermined price associated with this deal or if teco just lets us know what\\r\\nwe are giving . i can continue to chase this deal down if you need .\"\n        ],\n        \"semantic_type\": \"\",\n        \"description\": \"\"\n      }\n    },\n    {\n      \"column\": \"label_num\",\n      \"properties\": {\n        \"dtype\": \"number\",\n        \"std\": 0,\n        \"min\": 0,\n        \"max\": 1,\n        \"num_unique_values\": 2,\n        \"samples\": [\n          1,\n          0\n        ],\n        \"semantic_type\": \"\",\n        \"description\": \"\"\n      }\n    }\n  ]\n}"
            }
          },
          "metadata": {}
        }
      ]
    },
    {
      "cell_type": "code",
      "source": [
        "from nltk.tokenize import word_tokenize\n",
        "import nltk\n",
        "nltk.download('punkt')\n",
        "\n",
        "spam_keywords = ['free', 'win', 'winner', 'claim', 'click', 'offer', 'money', 'buy now', 'urgent', 'limited']\n",
        "# Redefine the function to tokenize and then check for spam keywords\n",
        "def label_email(content):\n",
        "    tokens = word_tokenize(content.lower())  # Tokenize the content into words\n",
        "    if any(keyword in tokens for keyword in spam_keywords):\n",
        "        return 1  # Spam\n",
        "    else:\n",
        "        return 0  # Ham\n",
        "emails['label'] = emails['text'].apply(label_email)"
      ],
      "metadata": {
        "colab": {
          "base_uri": "https://localhost:8080/"
        },
        "id": "zJUFiZ18jMaZ",
        "outputId": "e248c733-ca5a-4506-ed97-ad2c06654dbd"
      },
      "execution_count": null,
      "outputs": [
        {
          "output_type": "stream",
          "name": "stderr",
          "text": [
            "[nltk_data] Downloading package punkt to /root/nltk_data...\n",
            "[nltk_data]   Package punkt is already up-to-date!\n"
          ]
        }
      ]
    },
    {
      "cell_type": "code",
      "source": [
        "import matplotlib.pyplot as plt\n",
        "import seaborn as sns\n",
        "\n",
        "# Plot distribution\n",
        "sns.countplot(x='label', data=emails)\n",
        "plt.xticks([0, 1], ['Ham', 'Spam'])\n",
        "plt.title(\"Distribution of Ham and Spam Emails\")\n",
        "plt.xlabel(\"Email Type\")\n",
        "plt.ylabel(\"Emails Count\")\n",
        "plt.show()"
      ],
      "metadata": {
        "colab": {
          "base_uri": "https://localhost:8080/",
          "height": 492
        },
        "id": "9Q9g3iJzj8zm",
        "outputId": "3969c77c-c5ea-4bb5-c1e1-cb61f10d659c"
      },
      "execution_count": null,
      "outputs": [
        {
          "output_type": "display_data",
          "data": {
            "text/plain": [
              "<Figure size 640x480 with 1 Axes>"
            ],
            "image/png": "[encoded data removed]"
          },
          "metadata": {}
        }
      ]
    },
    {
      "cell_type": "code",
      "source": [
        "# Calculate frequency and percentage for Ham\n",
        "ham_count = emails['label'].value_counts()[0]\n",
        "ham_percentage = emails['label'].value_counts(normalize=True)[0] * 100\n",
        "print(f\"Ham Emails - Frequency: {ham_count}, Percentage: {ham_percentage:.2f}%\")\n",
        "\n",
        "# Calculate frequency and percentage for Spam\n",
        "spam_count = emails['label'].value_counts()[1]\n",
        "spam_percentage = emails['label'].value_counts(normalize=True)[1] * 100\n",
        "print(f\"Spam Emails - Frequency: {spam_count}, Percentage: {spam_percentage:.2f}%\")"
      ],
      "metadata": {
        "id": "9NkRHCoax9FO",
        "outputId": "d58a2588-d60a-4f8f-c4f2-75d75c185de9",
        "colab": {
          "base_uri": "https://localhost:8080/"
        }
      },
      "execution_count": null,
      "outputs": [
        {
          "output_type": "stream",
          "name": "stdout",
          "text": [
            "Ham Emails - Frequency: 4263, Percentage: 82.44%\n",
            "Spam Emails - Frequency: 908, Percentage: 17.56%\n"
          ]
        }
      ]
    },
    {
      "cell_type": "code",
      "source": [
        "import pandas as pd\n",
        "from sklearn.model_selection import train_test_split\n",
        "from sklearn.feature_extraction.text import TfidfVectorizer\n",
        "from sklearn.linear_model import LogisticRegression\n",
        "from sklearn.svm import SVC\n",
        "from sklearn.metrics import classification_report\n",
        "from nltk.tokenize import word_tokenize\n",
        "import nltk"
      ],
      "metadata": {
        "id": "D5FaR2mZGJDw"
      },
      "execution_count": null,
      "outputs": []
    },
    {
      "cell_type": "code",
      "source": [
        "# Preprocess text and tokenize\n",
        "def preprocess_text(content):\n",
        "    tokens = word_tokenize(content.lower())  # Tokenize the content into words\n",
        "    return ' '.join(tokens)  # Rejoin tokens into a single string\n",
        "\n",
        "# Apply text preprocessing\n",
        "emails['processed_text'] = emails['text'].apply(preprocess_text)\n",
        "\n",
        "# Separate features (X) and target (y)\n",
        "X = emails['processed_text']\n",
        "y = emails['label']\n",
        "\n",
        "# Split the data into training and testing sets\n",
        "X_train, X_test, y_train, y_test = train_test_split(X, y, test_size=0.3, random_state=42)\n",
        "\n",
        "# Use TF-IDF Vectorizer to convert text to numerical features\n",
        "vectorizer = TfidfVectorizer(max_features=5000)\n",
        "X_train_tfidf = vectorizer.fit_transform(X_train)\n",
        "X_test_tfidf = vectorizer.transform(X_test)\n",
        "\n",
        "# Logistic Regression Model\n",
        "lr_model = LogisticRegression(random_state=42)\n",
        "lr_model.fit(X_train_tfidf, y_train)\n",
        "\n",
        "# Support Vector Machine (SVM) Model\n",
        "svm_model = SVC(random_state=42)\n",
        "svm_model.fit(X_train_tfidf, y_train)\n",
        "\n",
        "# Make predictions\n",
        "lr_predictions = lr_model.predict(X_test_tfidf)\n",
        "svm_predictions = svm_model.predict(X_test_tfidf)\n",
        "\n",
        "# Evaluate and print classification reports\n",
        "print(\"Logistic Regression Classification Report:\")\n",
        "print(classification_report(y_test, lr_predictions))\n",
        "\n",
        "print(\"\\nSupport Vector Machine Classification Report:\")\n",
        "print(classification_report(y_test, svm_predictions))"
      ],
      "metadata": {
        "id": "_YK8ELdRGY8N",
        "colab": {
          "base_uri": "https://localhost:8080/"
        },
        "outputId": "6d1998c0-dbb1-4ae0-9f55-262bd30b616a"
      },
      "execution_count": null,
      "outputs": [
        {
          "output_type": "stream",
          "name": "stdout",
          "text": [
            "Logistic Regression Classification Report:\n",
            "              precision    recall  f1-score   support\n",
            "\n",
            "           0       0.92      0.99      0.95      1293\n",
            "           1       0.93      0.54      0.68       259\n",
            "\n",
            "    accuracy                           0.92      1552\n",
            "   macro avg       0.92      0.77      0.82      1552\n",
            "weighted avg       0.92      0.92      0.91      1552\n",
            "\n",
            "\n",
            "Support Vector Machine Classification Report:\n",
            "              precision    recall  f1-score   support\n",
            "\n",
            "           0       0.93      0.99      0.96      1293\n",
            "           1       0.94      0.65      0.77       259\n",
            "\n",
            "    accuracy                           0.93      1552\n",
            "   macro avg       0.94      0.82      0.86      1552\n",
            "weighted avg       0.93      0.93      0.93      1552\n",
            "\n"
          ]
        }
      ]
    }
  ]
}