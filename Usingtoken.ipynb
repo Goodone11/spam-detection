{
  "nbformat": 4,
  "nbformat_minor": 0,
  "metadata": {
    "colab": {
      "provenance": [],
      "authorship_tag": "ABX9TyNaMYkskl9G5asuoz7RKwYL",
      "include_colab_link": true
    },
    "kernelspec": {
      "name": "python3",
      "display_name": "Python 3"
    },
    "language_info": {
      "name": "python"
    }
  },
  "cells": [
    {
      "cell_type": "markdown",
      "metadata": {
        "id": "view-in-github",
        "colab_type": "text"
      },
      "source": [
        "<a href=\"https://colab.research.google.com/github/Goodone11/spam-detection/blob/main/Usingtoken.ipynb\" target=\"_parent\"><img src=\"https://colab.research.google.com/assets/colab-badge.svg\" alt=\"Open In Colab\"/></a>"
      ]
    },
    {
      "cell_type": "markdown",
      "source": [
        "This code aims to explore the use of tokens for spam detection. It leverages the Natural Language Toolkit (nltk) in Python to label emails as either spam or non-spam (ham) based on the presence of specific keywords.\n",
        "\n",
        "Download the required dataset for the word_tokenize function to function properly. This tokenizer from the nltk library splits text into individual words (tokens). A predefined list of keywords associated with spam is used, and the function checks if any of these words appear in the text, labeling the email as spam accordingly.\n",
        "\n",
        "Balancing the Dataset By using SMOTE, the model is trained on a more balanced dataset, improving its ability to detect both \"Ham\" and \"Spam\" emails effectively."
      ],
      "metadata": {
        "id": "fueLih44GNLx"
      }
    },
    {
      "cell_type": "code",
      "execution_count": 1,
      "metadata": {
        "colab": {
          "base_uri": "https://localhost:8080/"
        },
        "id": "HpPqUHpJirRo",
        "outputId": "2adef9ff-3453-427d-ca9c-1692431314c0"
      },
      "outputs": [
        {
          "output_type": "stream",
          "name": "stdout",
          "text": [
            "Downloading from https://www.kaggle.com/api/v1/datasets/download/venky73/spam-mails-dataset?dataset_version_number=1...\n"
          ]
        },
        {
          "output_type": "stream",
          "name": "stderr",
          "text": [
            "100%|██████████| 1.86M/1.86M [00:00<00:00, 2.40MB/s]"
          ]
        },
        {
          "output_type": "stream",
          "name": "stdout",
          "text": [
            "Extracting files...\n"
          ]
        },
        {
          "output_type": "stream",
          "name": "stderr",
          "text": [
            "\n"
          ]
        },
        {
          "output_type": "stream",
          "name": "stdout",
          "text": [
            "Path to dataset files: /root/.cache/kagglehub/datasets/venky73/spam-mails-dataset/versions/1\n"
          ]
        }
      ],
      "source": [
        "import kagglehub\n",
        "\n",
        "# Download latest version\n",
        "path = kagglehub.dataset_download(\"venky73/spam-mails-dataset\")\n",
        "\n",
        "print(\"Path to dataset files:\", path)"
      ]
    },
    {
      "cell_type": "code",
      "source": [
        "import os\n",
        "print(os.listdir(path))"
      ],
      "metadata": {
        "colab": {
          "base_uri": "https://localhost:8080/"
        },
        "id": "dbWM7qFRi6Tw",
        "outputId": "378fd154-763d-4bce-9e39-9f7ec0532856"
      },
      "execution_count": 2,
      "outputs": [
        {
          "output_type": "stream",
          "name": "stdout",
          "text": [
            "['spam_ham_dataset.csv']\n"
          ]
        }
      ]
    },
    {
      "cell_type": "code",
      "source": [
        "import pandas as pd\n",
        "\n",
        "# Read CSV file\n",
        "file_path = os.path.join(path, \"spam_ham_dataset.csv\")\n",
        "df = pd.read_csv(file_path)\n",
        "\n",
        "print(\"Data preview:\")\n",
        "print(df.head())"
      ],
      "metadata": {
        "colab": {
          "base_uri": "https://localhost:8080/"
        },
        "id": "6C5eovh7i7ii",
        "outputId": "365c07f6-6d74-4f37-f61b-efa03bb177f0"
      },
      "execution_count": 3,
      "outputs": [
        {
          "output_type": "stream",
          "name": "stdout",
          "text": [
            "Data preview:\n",
            "   Unnamed: 0 label                                               text  \\\n",
            "0         605   ham  Subject: enron methanol ; meter # : 988291\\r\\n...   \n",
            "1        2349   ham  Subject: hpl nom for january 9 , 2001\\r\\n( see...   \n",
            "2        3624   ham  Subject: neon retreat\\r\\nho ho ho , we ' re ar...   \n",
            "3        4685  spam  Subject: photoshop , windows , office . cheap ...   \n",
            "4        2030   ham  Subject: re : indian springs\\r\\nthis deal is t...   \n",
            "\n",
            "   label_num  \n",
            "0          0  \n",
            "1          0  \n",
            "2          0  \n",
            "3          1  \n",
            "4          0  \n"
          ]
        }
      ]
    },
    {
      "cell_type": "code",
      "source": [
        "\n",
        "import os\n",
        "import pandas as pd\n",
        "import numpy as np\n",
        "from IPython.display import display\n",
        "\n",
        "# Set display options to show more rows and wider columns\n",
        "pd.set_option(\"display.max_rows\", 999)\n",
        "pd.set_option(\"display.max_colwidth\", 100)\n",
        "\n",
        "# Define the file path and load the data\n",
        "file_path = os.path.join(path, \"spam_ham_dataset.csv\")\n",
        "emails = pd.read_csv(file_path)\n",
        "\n",
        "# Print dataset dimensions and preview the first few rows\n",
        "print(\"Successfully loaded {} rows and {} columns!\".format(emails.shape[0], emails.shape[1]))\n",
        "display(emails.head())  # Directly using"
      ],
      "metadata": {
        "colab": {
          "base_uri": "https://localhost:8080/",
          "height": 244
        },
        "id": "kn7xXkTUjHD-",
        "outputId": "b10f9ea8-0369-42f4-b616-d769ab9b122a"
      },
      "execution_count": 4,
      "outputs": [
        {
          "output_type": "stream",
          "name": "stdout",
          "text": [
            "Successfully loaded 5171 rows and 4 columns!\n"
          ]
        },
        {
          "output_type": "display_data",
          "data": {
            "text/plain": [
              "   Unnamed: 0 label  \\\n",
              "0         605   ham   \n",
              "1        2349   ham   \n",
              "2        3624   ham   \n",
              "3        4685  spam   \n",
              "4        2030   ham   \n",
              "\n",
              "                                                                                                  text  \\\n",
              "0  Subject: enron methanol ; meter # : 988291\\r\\nthis is a follow up to the note i gave you on mond...   \n",
              "1  Subject: hpl nom for january 9 , 2001\\r\\n( see attached file : hplnol 09 . xls )\\r\\n- hplnol 09 ...   \n",
              "2  Subject: neon retreat\\r\\nho ho ho , we ' re around to that most wonderful time of the year - - -...   \n",
              "3  Subject: photoshop , windows , office . cheap . main trending\\r\\nabasements darer prudently fort...   \n",
              "4  Subject: re : indian springs\\r\\nthis deal is to book the teco pvr revenue . it is my understandi...   \n",
              "\n",
              "   label_num  \n",
              "0          0  \n",
              "1          0  \n",
              "2          0  \n",
              "3          1  \n",
              "4          0  "
            ],
            "text/html": [
              "\n",
              "  <div id=\"df-93c431bd-c97c-4d52-9647-3ccf165d558e\" class=\"colab-df-container\">\n",
              "    <div>\n",
              "<style scoped>\n",
              "    .dataframe tbody tr th:only-of-type {\n",
              "        vertical-align: middle;\n",
              "    }\n",
              "\n",
              "    .dataframe tbody tr th {\n",
              "        vertical-align: top;\n",
              "    }\n",
              "\n",
              "    .dataframe thead th {\n",
              "        text-align: right;\n",
              "    }\n",
              "</style>\n",
              "<table border=\"1\" class=\"dataframe\">\n",
              "  <thead>\n",
              "    <tr style=\"text-align: right;\">\n",
              "      <th></th>\n",
              "      <th>Unnamed: 0</th>\n",
              "      <th>label</th>\n",
              "      <th>text</th>\n",
              "      <th>label_num</th>\n",
              "    </tr>\n",
              "  </thead>\n",
              "  <tbody>\n",
              "    <tr>\n",
              "      <th>0</th>\n",
              "      <td>605</td>\n",
              "      <td>ham</td>\n",
              "      <td>Subject: enron methanol ; meter # : 988291\\r\\nthis is a follow up to the note i gave you on mond...</td>\n",
              "      <td>0</td>\n",
              "    </tr>\n",
              "    <tr>\n",
              "      <th>1</th>\n",
              "      <td>2349</td>\n",
              "      <td>ham</td>\n",
              "      <td>Subject: hpl nom for january 9 , 2001\\r\\n( see attached file : hplnol 09 . xls )\\r\\n- hplnol 09 ...</td>\n",
              "      <td>0</td>\n",
              "    </tr>\n",
              "    <tr>\n",
              "      <th>2</th>\n",
              "      <td>3624</td>\n",
              "      <td>ham</td>\n",
              "      <td>Subject: neon retreat\\r\\nho ho ho , we ' re around to that most wonderful time of the year - - -...</td>\n",
              "      <td>0</td>\n",
              "    </tr>\n",
              "    <tr>\n",
              "      <th>3</th>\n",
              "      <td>4685</td>\n",
              "      <td>spam</td>\n",
              "      <td>Subject: photoshop , windows , office . cheap . main trending\\r\\nabasements darer prudently fort...</td>\n",
              "      <td>1</td>\n",
              "    </tr>\n",
              "    <tr>\n",
              "      <th>4</th>\n",
              "      <td>2030</td>\n",
              "      <td>ham</td>\n",
              "      <td>Subject: re : indian springs\\r\\nthis deal is to book the teco pvr revenue . it is my understandi...</td>\n",
              "      <td>0</td>\n",
              "    </tr>\n",
              "  </tbody>\n",
              "</table>\n",
              "</div>\n",
              "    <div class=\"colab-df-buttons\">\n",
              "\n",
              "  <div class=\"colab-df-container\">\n",
              "    <button class=\"colab-df-convert\" onclick=\"convertToInteractive('df-93c431bd-c97c-4d52-9647-3ccf165d558e')\"\n",
              "            title=\"Convert this dataframe to an interactive table.\"\n",
              "            style=\"display:none;\">\n",
              "\n",
              "  <svg xmlns=\"http://www.w3.org/2000/svg\" height=\"24px\" viewBox=\"0 -960 960 960\">\n",
              "    <path d=\"M120-120v-720h720v720H120Zm60-500h600v-160H180v160Zm220 220h160v-160H400v160Zm0 220h160v-160H400v160ZM180-400h160v-160H180v160Zm440 0h160v-160H620v160ZM180-180h160v-160H180v160Zm440 0h160v-160H620v160Z\"/>\n",
              "  </svg>\n",
              "    </button>\n",
              "\n",
              "  <style>\n",
              "    .colab-df-container {\n",
              "      display:flex;\n",
              "      gap: 12px;\n",
              "    }\n",
              "\n",
              "    .colab-df-convert {\n",
              "      background-color: #E8F0FE;\n",
              "      border: none;\n",
              "      border-radius: 50%;\n",
              "      cursor: pointer;\n",
              "      display: none;\n",
              "      fill: #1967D2;\n",
              "      height: 32px;\n",
              "      padding: 0 0 0 0;\n",
              "      width: 32px;\n",
              "    }\n",
              "\n",
              "    .colab-df-convert:hover {\n",
              "      background-color: #E2EBFA;\n",
              "      box-shadow: 0px 1px 2px rgba(60, 64, 67, 0.3), 0px 1px 3px 1px rgba(60, 64, 67, 0.15);\n",
              "      fill: #174EA6;\n",
              "    }\n",
              "\n",
              "    .colab-df-buttons div {\n",
              "      margin-bottom: 4px;\n",
              "    }\n",
              "\n",
              "    [theme=dark] .colab-df-convert {\n",
              "      background-color: #3B4455;\n",
              "      fill: #D2E3FC;\n",
              "    }\n",
              "\n",
              "    [theme=dark] .colab-df-convert:hover {\n",
              "      background-color: #434B5C;\n",
              "      box-shadow: 0px 1px 3px 1px rgba(0, 0, 0, 0.15);\n",
              "      filter: drop-shadow(0px 1px 2px rgba(0, 0, 0, 0.3));\n",
              "      fill: #FFFFFF;\n",
              "    }\n",
              "  </style>\n",
              "\n",
              "    <script>\n",
              "      const buttonEl =\n",
              "        document.querySelector('#df-93c431bd-c97c-4d52-9647-3ccf165d558e button.colab-df-convert');\n",
              "      buttonEl.style.display =\n",
              "        google.colab.kernel.accessAllowed ? 'block' : 'none';\n",
              "\n",
              "      async function convertToInteractive(key) {\n",
              "        const element = document.querySelector('#df-93c431bd-c97c-4d52-9647-3ccf165d558e');\n",
              "        const dataTable =\n",
              "          await google.colab.kernel.invokeFunction('convertToInteractive',\n",
              "                                                    [key], {});\n",
              "        if (!dataTable) return;\n",
              "\n",
              "        const docLinkHtml = 'Like what you see? Visit the ' +\n",
              "          '<a target=\"_blank\" href=https://colab.research.google.com/notebooks/data_table.ipynb>data table notebook</a>'\n",
              "          + ' to learn more about interactive tables.';\n",
              "        element.innerHTML = '';\n",
              "        dataTable['output_type'] = 'display_data';\n",
              "        await google.colab.output.renderOutput(dataTable, element);\n",
              "        const docLink = document.createElement('div');\n",
              "        docLink.innerHTML = docLinkHtml;\n",
              "        element.appendChild(docLink);\n",
              "      }\n",
              "    </script>\n",
              "  </div>\n",
              "\n",
              "\n",
              "<div id=\"df-a3e16edd-a32c-404f-9d6b-a5ee7d0137b7\">\n",
              "  <button class=\"colab-df-quickchart\" onclick=\"quickchart('df-a3e16edd-a32c-404f-9d6b-a5ee7d0137b7')\"\n",
              "            title=\"Suggest charts\"\n",
              "            style=\"display:none;\">\n",
              "\n",
              "<svg xmlns=\"http://www.w3.org/2000/svg\" height=\"24px\"viewBox=\"0 0 24 24\"\n",
              "     width=\"24px\">\n",
              "    <g>\n",
              "        <path d=\"M19 3H5c-1.1 0-2 .9-2 2v14c0 1.1.9 2 2 2h14c1.1 0 2-.9 2-2V5c0-1.1-.9-2-2-2zM9 17H7v-7h2v7zm4 0h-2V7h2v10zm4 0h-2v-4h2v4z\"/>\n",
              "    </g>\n",
              "</svg>\n",
              "  </button>\n",
              "\n",
              "<style>\n",
              "  .colab-df-quickchart {\n",
              "      --bg-color: #E8F0FE;\n",
              "      --fill-color: #1967D2;\n",
              "      --hover-bg-color: #E2EBFA;\n",
              "      --hover-fill-color: #174EA6;\n",
              "      --disabled-fill-color: #AAA;\n",
              "      --disabled-bg-color: #DDD;\n",
              "  }\n",
              "\n",
              "  [theme=dark] .colab-df-quickchart {\n",
              "      --bg-color: #3B4455;\n",
              "      --fill-color: #D2E3FC;\n",
              "      --hover-bg-color: #434B5C;\n",
              "      --hover-fill-color: #FFFFFF;\n",
              "      --disabled-bg-color: #3B4455;\n",
              "      --disabled-fill-color: #666;\n",
              "  }\n",
              "\n",
              "  .colab-df-quickchart {\n",
              "    background-color: var(--bg-color);\n",
              "    border: none;\n",
              "    border-radius: 50%;\n",
              "    cursor: pointer;\n",
              "    display: none;\n",
              "    fill: var(--fill-color);\n",
              "    height: 32px;\n",
              "    padding: 0;\n",
              "    width: 32px;\n",
              "  }\n",
              "\n",
              "  .colab-df-quickchart:hover {\n",
              "    background-color: var(--hover-bg-color);\n",
              "    box-shadow: 0 1px 2px rgba(60, 64, 67, 0.3), 0 1px 3px 1px rgba(60, 64, 67, 0.15);\n",
              "    fill: var(--button-hover-fill-color);\n",
              "  }\n",
              "\n",
              "  .colab-df-quickchart-complete:disabled,\n",
              "  .colab-df-quickchart-complete:disabled:hover {\n",
              "    background-color: var(--disabled-bg-color);\n",
              "    fill: var(--disabled-fill-color);\n",
              "    box-shadow: none;\n",
              "  }\n",
              "\n",
              "  .colab-df-spinner {\n",
              "    border: 2px solid var(--fill-color);\n",
              "    border-color: transparent;\n",
              "    border-bottom-color: var(--fill-color);\n",
              "    animation:\n",
              "      spin 1s steps(1) infinite;\n",
              "  }\n",
              "\n",
              "  @keyframes spin {\n",
              "    0% {\n",
              "      border-color: transparent;\n",
              "      border-bottom-color: var(--fill-color);\n",
              "      border-left-color: var(--fill-color);\n",
              "    }\n",
              "    20% {\n",
              "      border-color: transparent;\n",
              "      border-left-color: var(--fill-color);\n",
              "      border-top-color: var(--fill-color);\n",
              "    }\n",
              "    30% {\n",
              "      border-color: transparent;\n",
              "      border-left-color: var(--fill-color);\n",
              "      border-top-color: var(--fill-color);\n",
              "      border-right-color: var(--fill-color);\n",
              "    }\n",
              "    40% {\n",
              "      border-color: transparent;\n",
              "      border-right-color: var(--fill-color);\n",
              "      border-top-color: var(--fill-color);\n",
              "    }\n",
              "    60% {\n",
              "      border-color: transparent;\n",
              "      border-right-color: var(--fill-color);\n",
              "    }\n",
              "    80% {\n",
              "      border-color: transparent;\n",
              "      border-right-color: var(--fill-color);\n",
              "      border-bottom-color: var(--fill-color);\n",
              "    }\n",
              "    90% {\n",
              "      border-color: transparent;\n",
              "      border-bottom-color: var(--fill-color);\n",
              "    }\n",
              "  }\n",
              "</style>\n",
              "\n",
              "  <script>\n",
              "    async function quickchart(key) {\n",
              "      const quickchartButtonEl =\n",
              "        document.querySelector('#' + key + ' button');\n",
              "      quickchartButtonEl.disabled = true;  // To prevent multiple clicks.\n",
              "      quickchartButtonEl.classList.add('colab-df-spinner');\n",
              "      try {\n",
              "        const charts = await google.colab.kernel.invokeFunction(\n",
              "            'suggestCharts', [key], {});\n",
              "      } catch (error) {\n",
              "        console.error('Error during call to suggestCharts:', error);\n",
              "      }\n",
              "      quickchartButtonEl.classList.remove('colab-df-spinner');\n",
              "      quickchartButtonEl.classList.add('colab-df-quickchart-complete');\n",
              "    }\n",
              "    (() => {\n",
              "      let quickchartButtonEl =\n",
              "        document.querySelector('#df-a3e16edd-a32c-404f-9d6b-a5ee7d0137b7 button');\n",
              "      quickchartButtonEl.style.display =\n",
              "        google.colab.kernel.accessAllowed ? 'block' : 'none';\n",
              "    })();\n",
              "  </script>\n",
              "</div>\n",
              "\n",
              "    </div>\n",
              "  </div>\n"
            ],
            "application/vnd.google.colaboratory.intrinsic+json": {
              "type": "dataframe",
              "summary": "{\n  \"name\": \"display(emails\",\n  \"rows\": 5,\n  \"fields\": [\n    {\n      \"column\": \"Unnamed: 0\",\n      \"properties\": {\n        \"dtype\": \"number\",\n        \"std\": 1560,\n        \"min\": 605,\n        \"max\": 4685,\n        \"num_unique_values\": 5,\n        \"samples\": [\n          2349,\n          2030,\n          3624\n        ],\n        \"semantic_type\": \"\",\n        \"description\": \"\"\n      }\n    },\n    {\n      \"column\": \"label\",\n      \"properties\": {\n        \"dtype\": \"category\",\n        \"num_unique_values\": 2,\n        \"samples\": [\n          \"spam\",\n          \"ham\"\n        ],\n        \"semantic_type\": \"\",\n        \"description\": \"\"\n      }\n    },\n    {\n      \"column\": \"text\",\n      \"properties\": {\n        \"dtype\": \"string\",\n        \"num_unique_values\": 5,\n        \"samples\": [\n          \"Subject: hpl nom for january 9 , 2001\\r\\n( see attached file : hplnol 09 . xls )\\r\\n- hplnol 09 . xls\",\n          \"Subject: re : indian springs\\r\\nthis deal is to book the teco pvr revenue . it is my understanding that teco\\r\\njust sends us a check , i haven ' t received an answer as to whether there is a\\r\\npredermined price associated with this deal or if teco just lets us know what\\r\\nwe are giving . i can continue to chase this deal down if you need .\"\n        ],\n        \"semantic_type\": \"\",\n        \"description\": \"\"\n      }\n    },\n    {\n      \"column\": \"label_num\",\n      \"properties\": {\n        \"dtype\": \"number\",\n        \"std\": 0,\n        \"min\": 0,\n        \"max\": 1,\n        \"num_unique_values\": 2,\n        \"samples\": [\n          1,\n          0\n        ],\n        \"semantic_type\": \"\",\n        \"description\": \"\"\n      }\n    }\n  ]\n}"
            }
          },
          "metadata": {}
        }
      ]
    },
    {
      "cell_type": "code",
      "source": [
        "from nltk.tokenize import word_tokenize\n",
        "import nltk\n",
        "nltk.download('punkt')\n",
        "nltk.download('punkt_tab')"
      ],
      "metadata": {
        "colab": {
          "base_uri": "https://localhost:8080/"
        },
        "id": "81ZbX3CeMgk0",
        "outputId": "7c75c275-8b22-4686-dd2f-cbe763acac1f"
      },
      "execution_count": 5,
      "outputs": [
        {
          "output_type": "stream",
          "name": "stderr",
          "text": [
            "[nltk_data] Downloading package punkt to /root/nltk_data...\n",
            "[nltk_data]   Unzipping tokenizers/punkt.zip.\n",
            "[nltk_data] Downloading package punkt_tab to /root/nltk_data...\n",
            "[nltk_data]   Unzipping tokenizers/punkt_tab.zip.\n"
          ]
        },
        {
          "output_type": "execute_result",
          "data": {
            "text/plain": [
              "True"
            ]
          },
          "metadata": {},
          "execution_count": 5
        }
      ]
    },
    {
      "cell_type": "code",
      "source": [
        "import nltk\n",
        "from nltk.tokenize import word_tokenize\n",
        "\n",
        "nltk.download('punkt')\n",
        "\n",
        "spam_keywords = ['free', 'win', 'winner', 'claim', 'click', 'offer', 'money', 'buy now', 'urgent', 'limited']\n",
        "\n",
        "def label_email(content):\n",
        "  tokens = word_tokenize(content.lower())\n",
        "  if any(keyword in tokens for keyword in spam_keywords):\n",
        "      return 1  # Spam\n",
        "  else:\n",
        "      return 0  # Ham\n",
        "\n",
        "emails['label'] = emails['text'].apply(label_email)"
      ],
      "metadata": {
        "colab": {
          "base_uri": "https://localhost:8080/"
        },
        "id": "zJUFiZ18jMaZ",
        "outputId": "be1892c7-04a7-4d90-a4b2-75440bda9172"
      },
      "execution_count": 6,
      "outputs": [
        {
          "output_type": "stream",
          "name": "stderr",
          "text": [
            "[nltk_data] Downloading package punkt to /root/nltk_data...\n",
            "[nltk_data]   Package punkt is already up-to-date!\n"
          ]
        }
      ]
    },
    {
      "cell_type": "code",
      "source": [
        "import matplotlib.pyplot as plt\n",
        "import seaborn as sns\n",
        "\n",
        "# Plot distribution\n",
        "sns.countplot(x='label', data=emails)\n",
        "plt.xticks([0, 1], ['Ham', 'Spam'])\n",
        "plt.title(\"Distribution of Ham and Spam Emails\")\n",
        "plt.xlabel(\"Email Type\")\n",
        "plt.ylabel(\"Emails Count\")\n",
        "plt.show()"
      ],
      "metadata": {
        "colab": {
          "base_uri": "https://localhost:8080/",
          "height": 492
        },
        "id": "9Q9g3iJzj8zm",
        "outputId": "a8fe81f5-1bcf-4e10-893f-d5ed8c3452ac"
      },
      "execution_count": 7,
      "outputs": [
        {
          "output_type": "display_data",
          "data": {
            "text/plain": [
              "<Figure size 640x480 with 1 Axes>"
            ],
            "image/png": "[encoded data removed]"
          },
          "metadata": {}
        }
      ]
    },
    {
      "cell_type": "code",
      "source": [
        "import matplotlib.pyplot as plt\n",
        "\n",
        "# Count the number of Ham and Spam emails\n",
        "ham_count = emails[emails['label'] == 0].shape[0]\n",
        "spam_count = emails[emails['label'] == 1].shape[0]\n",
        "\n",
        "# Data for the pie chart\n",
        "labels = ['Ham', 'Spam']\n",
        "sizes = [ham_count, spam_count]\n",
        "colors = ['green', 'yellow']\n",
        "\n",
        "plt.figure(figsize=(7, 7))\n",
        "plt.pie(sizes, labels=labels, colors=colors, autopct='%1.1f%%', startangle=90)\n",
        "plt.title(\"Distribution of Ham and Spam Emails\")\n",
        "plt.axis('equal')\n",
        "plt.show()"
      ],
      "metadata": {
        "colab": {
          "base_uri": "https://localhost:8080/",
          "height": 618
        },
        "id": "ZKdZd-bGR3wr",
        "outputId": "8ca3a833-ab98-4385-8ae5-34a3bd535b91"
      },
      "execution_count": 8,
      "outputs": [
        {
          "output_type": "display_data",
          "data": {
            "text/plain": [
              "<Figure size 700x700 with 1 Axes>"
            ],
            "image/png": "[encoded data removed]"
          },
          "metadata": {}
        }
      ]
    },
    {
      "cell_type": "code",
      "source": [
        "# Calculate frequency and percentage for Ham\n",
        "ham_count = emails['label'].value_counts()[0]\n",
        "ham_percentage = emails['label'].value_counts(normalize=True)[0] * 100\n",
        "print(f\"Ham Emails - Frequency: {ham_count}, Percentage: {ham_percentage:.2f}%\")\n",
        "\n",
        "# Calculate frequency and percentage for Spam\n",
        "spam_count = emails['label'].value_counts()[1]\n",
        "spam_percentage = emails['label'].value_counts(normalize=True)[1] * 100\n",
        "print(f\"Spam Emails - Frequency: {spam_count}, Percentage: {spam_percentage:.2f}%\")"
      ],
      "metadata": {
        "id": "9NkRHCoax9FO",
        "outputId": "dd460245-4100-423a-9b69-8742d06f14bd",
        "colab": {
          "base_uri": "https://localhost:8080/"
        }
      },
      "execution_count": 9,
      "outputs": [
        {
          "output_type": "stream",
          "name": "stdout",
          "text": [
            "Ham Emails - Frequency: 4263, Percentage: 82.44%\n",
            "Spam Emails - Frequency: 908, Percentage: 17.56%\n"
          ]
        }
      ]
    },
    {
      "cell_type": "code",
      "source": [
        "import pandas as pd\n",
        "from sklearn.model_selection import train_test_split\n",
        "from sklearn.feature_extraction.text import TfidfVectorizer\n",
        "from sklearn.linear_model import LogisticRegression\n",
        "from sklearn.svm import SVC\n",
        "from sklearn.metrics import classification_report\n",
        "from imblearn.over_sampling import SMOTE"
      ],
      "metadata": {
        "id": "D5FaR2mZGJDw"
      },
      "execution_count": 10,
      "outputs": []
    },
    {
      "cell_type": "code",
      "source": [
        "from imblearn.over_sampling import SMOTE\n",
        "\n",
        "def preprocess_text(content):\n",
        "    tokens = word_tokenize(content.lower())  # Tokenize and convert to lowercase\n",
        "    return ' '.join(tokens)\n",
        "\n",
        "emails['processed_text'] = emails['text'].apply(preprocess_text)\n",
        "\n",
        "# Separate features and target\n",
        "X = emails['processed_text']  # Feature: email text\n",
        "y = emails['label']  # Target: Ham or Spam label\n",
        "\n",
        "# Convert text data to numerical features (TF-IDF)\n",
        "vectorizer = TfidfVectorizer(max_features=5000)\n",
        "X_tfidf = vectorizer.fit_transform(X)  # This will be a sparse matrix\n",
        "\n",
        "# Apply SMOTE to balance the dataset\n",
        "smote = SMOTE(random_state=42)\n",
        "\n",
        "# Ensure y is a 1D array and not a DataFrame\n",
        "y = y.values\n",
        "\n",
        "# Resample the features and target\n",
        "X_res, y_res = smote.fit_resample(X_tfidf, y)\n",
        "\n",
        "\n",
        "X_train, X_test, y_train, y_test = train_test_split(X_res, y_res, test_size=0.2, random_state=42)\n",
        "\n",
        "# Now you can train the model on the balanced dataset\n",
        "\n"
      ],
      "metadata": {
        "id": "wlI4y89nTPTa"
      },
      "execution_count": 11,
      "outputs": []
    },
    {
      "cell_type": "code",
      "source": [
        "print(\"\\nBalanced class distribution after SMOTE:\")\n",
        "print(pd.Series(y_res).value_counts())"
      ],
      "metadata": {
        "colab": {
          "base_uri": "https://localhost:8080/"
        },
        "id": "9vZ-_zTlWLaA",
        "outputId": "f18dd4f6-d7d1-4256-902e-03713ccb8cb7"
      },
      "execution_count": 12,
      "outputs": [
        {
          "output_type": "stream",
          "name": "stdout",
          "text": [
            "\n",
            "Balanced class distribution after SMOTE:\n",
            "0    4263\n",
            "1    4263\n",
            "Name: count, dtype: int64\n"
          ]
        }
      ]
    },
    {
      "cell_type": "markdown",
      "source": [],
      "metadata": {
        "id": "wQdiFdP9W-AQ"
      }
    },
    {
      "cell_type": "code",
      "source": [
        "\n",
        "# Logistic Regression Model\n",
        "lr_model = LogisticRegression(random_state=42)\n",
        "lr_model.fit(X_res, y_res)\n",
        "\n",
        "# Support Vector Machine (SVM) Model\n",
        "svm_model = SVC(random_state=42)\n",
        "svm_model.fit(X_res, y_res)\n",
        "\n",
        "# Make predictions\n",
        "lr_predictions = lr_model.predict(X_test)\n",
        "svm_predictions = svm_model.predict(X_test)\n",
        "\n",
        "# Evaluate and print classification reports\n",
        "print(\"Logistic Regression Classification Report:\")\n",
        "print(classification_report(y_test, lr_predictions))\n",
        "\n",
        "print(\"\\nSupport Vector Machine Classification Report:\")\n",
        "print(classification_report(y_test, svm_predictions))"
      ],
      "metadata": {
        "id": "_YK8ELdRGY8N",
        "colab": {
          "base_uri": "https://localhost:8080/"
        },
        "outputId": "cc3530bb-62ec-4fb7-a6e7-a0e6147e7740"
      },
      "execution_count": 13,
      "outputs": [
        {
          "output_type": "stream",
          "name": "stdout",
          "text": [
            "Logistic Regression Classification Report:\n",
            "              precision    recall  f1-score   support\n",
            "\n",
            "           0       0.99      0.96      0.97       870\n",
            "           1       0.96      0.99      0.97       836\n",
            "\n",
            "    accuracy                           0.97      1706\n",
            "   macro avg       0.97      0.98      0.97      1706\n",
            "weighted avg       0.98      0.97      0.97      1706\n",
            "\n",
            "\n",
            "Support Vector Machine Classification Report:\n",
            "              precision    recall  f1-score   support\n",
            "\n",
            "           0       1.00      1.00      1.00       870\n",
            "           1       1.00      1.00      1.00       836\n",
            "\n",
            "    accuracy                           1.00      1706\n",
            "   macro avg       1.00      1.00      1.00      1706\n",
            "weighted avg       1.00      1.00      1.00      1706\n",
            "\n"
          ]
        }
      ]
    },
    {
      "cell_type": "code",
      "source": [
        "lr_conf_matrix = confusion_matrix(y_test, lr_predictions)\n",
        "labels = ['Ham Email', 'Spam']\n",
        "plt.figure(figsize=(7,5))\n",
        "ax= plt.subplot()\n",
        "sns.heatmap(conf_matrix,annot=True, fmt='.1f', cmap=\"Reds\" , ax=ax);\n",
        "\n",
        "ax.xaxis.set_ticklabels(labels)\n",
        "ax.yaxis.set_ticklabels(labels)\n",
        "plt.xlabel('Predicted Labels')\n",
        "plt.ylabel('True Labels')\n",
        "plt.title('Confusion Matrix')\n",
        "plt.show()"
      ],
      "metadata": {
        "colab": {
          "base_uri": "https://localhost:8080/",
          "height": 507
        },
        "id": "ocdJ6o-8b4b6",
        "outputId": "55afd3d2-4e88-4ea9-d91c-354124d44db0"
      },
      "execution_count": 18,
      "outputs": [
        {
          "output_type": "display_data",
          "data": {
            "text/plain": [
              "<Figure size 700x500 with 2 Axes>"
            ],
            "image/png": "[encoded data removed]"
          },
          "metadata": {}
        }
      ]
    },
    {
      "cell_type": "code",
      "source": [
        "svm_conf_matrix = confusion_matrix(y_test, svm_predictions)\n",
        "\n",
        "\n",
        "labels = ['Ham Email', 'Spam']\n",
        "plt.figure(figsize=(7,5))\n",
        "ax= plt.subplot()\n",
        "sns.heatmap(conf_matrix,annot=True, fmt='.1f', cmap=\"Reds\" , ax=ax);\n",
        "\n",
        "ax.xaxis.set_ticklabels(labels)\n",
        "ax.yaxis.set_ticklabels(labels)\n",
        "plt.xlabel('Predicted Labels')\n",
        "plt.ylabel('True Labels')\n",
        "plt.title('Confusion Matrix')\n",
        "plt.show()"
      ],
      "metadata": {
        "colab": {
          "base_uri": "https://localhost:8080/",
          "height": 507
        },
        "id": "vKCKQd8BbpAo",
        "outputId": "0868d372-1dda-4d0a-87d2-59c105c166a5"
      },
      "execution_count": 17,
      "outputs": [
        {
          "output_type": "display_data",
          "data": {
            "text/plain": [
              "<Figure size 700x500 with 2 Axes>"
            ],
            "image/png": "[encoded data removed]"
          },
          "metadata": {}
        }
      ]
    },
    {
      "cell_type": "code",
      "source": [
        "from sklearn.ensemble import RandomForestClassifier\n",
        "from sklearn.metrics import accuracy_score, classification_report\n",
        "rf_model = RandomForestClassifier()\n",
        "rf_model.fit(X_res, y_res)\n",
        "\n",
        "# Make predictions\n",
        "y_pred = rf_model.predict(X_test)\n",
        "\n",
        "# Evaluate the model\n",
        "print(\"Random Forest Classifier:\")\n",
        "print(\"Accuracy:\", accuracy_score(y_test, y_pred))\n",
        "print(classification_report(y_test, y_pred))\n"
      ],
      "metadata": {
        "colab": {
          "base_uri": "https://localhost:8080/"
        },
        "id": "gheS5bOeQIoT",
        "outputId": "17e2da4a-3787-4023-e950-c331f79a96f1"
      },
      "execution_count": 14,
      "outputs": [
        {
          "output_type": "stream",
          "name": "stdout",
          "text": [
            "Random Forest Classifier:\n",
            "Accuracy: 1.0\n",
            "              precision    recall  f1-score   support\n",
            "\n",
            "           0       1.00      1.00      1.00       870\n",
            "           1       1.00      1.00      1.00       836\n",
            "\n",
            "    accuracy                           1.00      1706\n",
            "   macro avg       1.00      1.00      1.00      1706\n",
            "weighted avg       1.00      1.00      1.00      1706\n",
            "\n"
          ]
        }
      ]
    },
    {
      "cell_type": "code",
      "source": [
        "import seaborn as sns\n",
        "from sklearn.metrics import confusion_matrix\n",
        "conf_matrix = confusion_matrix(y_test, y_pred)\n",
        "\n",
        "labels = ['Ham Email', 'Spam']\n",
        "plt.figure(figsize=(7,5))\n",
        "ax= plt.subplot()\n",
        "sns.heatmap(conf_matrix,annot=True, fmt='.1f', cmap=\"Reds\" , ax=ax);\n",
        "\n",
        "ax.xaxis.set_ticklabels(labels)\n",
        "ax.yaxis.set_ticklabels(labels)\n",
        "plt.xlabel('Predicted Labels')\n",
        "plt.ylabel('True Labels')\n",
        "plt.title('Confusion Matrix')\n",
        "plt.show()"
      ],
      "metadata": {
        "colab": {
          "base_uri": "https://localhost:8080/",
          "height": 507
        },
        "id": "3Rt_-PLAaSJ1",
        "outputId": "4b311270-8397-40ee-fb60-1fc084ab60e7"
      },
      "execution_count": 15,
      "outputs": [
        {
          "output_type": "display_data",
          "data": {
            "text/plain": [
              "<Figure size 700x500 with 2 Axes>"
            ],
            "image/png": "[encoded data removed]"
          },
          "metadata": {}
        }
      ]
    }
  ]
}