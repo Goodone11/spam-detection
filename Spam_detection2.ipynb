{
  "cells": [
    {
      "cell_type": "markdown",
      "metadata": {
        "id": "view-in-github",
        "colab_type": "text"
      },
      "source": [
        "<a href=\"https://colab.research.google.com/github/Goodone11/spam-detection/blob/main/Spam_detection2.ipynb\" target=\"_parent\"><img src=\"https://colab.research.google.com/assets/colab-badge.svg\" alt=\"Open In Colab\"/></a>"
      ]
    },
    {
      "cell_type": "code",
      "execution_count": null,
      "metadata": {
        "colab": {
          "base_uri": "https://localhost:8080/"
        },
        "id": "EbdEXe8zelUc",
        "outputId": "48aa5cca-ed24-40bd-ab8f-0efe7466dcbd"
      },
      "outputs": [
        {
          "output_type": "stream",
          "name": "stdout",
          "text": [
            "Downloading from https://www.kaggle.com/api/v1/datasets/download/venky73/spam-mails-dataset?dataset_version_number=1...\n"
          ]
        },
        {
          "output_type": "stream",
          "name": "stderr",
          "text": [
            "100%|██████████| 1.86M/1.86M [00:00<00:00, 55.8MB/s]"
          ]
        },
        {
          "output_type": "stream",
          "name": "stdout",
          "text": [
            "Extracting files...\n",
            "Path to dataset files: /root/.cache/kagglehub/datasets/venky73/spam-mails-dataset/versions/1\n"
          ]
        },
        {
          "output_type": "stream",
          "name": "stderr",
          "text": [
            "\n"
          ]
        }
      ],
      "source": [
        "import kagglehub\n",
        "\n",
        "# Download latest version\n",
        "path = kagglehub.dataset_download(\"venky73/spam-mails-dataset\")\n",
        "\n",
        "print(\"Path to dataset files:\", path)"
      ]
    },
    {
      "cell_type": "code",
      "execution_count": null,
      "metadata": {
        "colab": {
          "base_uri": "https://localhost:8080/"
        },
        "id": "zutsan0tevCe",
        "outputId": "05ff5271-0e4e-4694-e493-6a86813992b4"
      },
      "outputs": [
        {
          "output_type": "stream",
          "name": "stdout",
          "text": [
            "['spam_ham_dataset.csv']\n"
          ]
        }
      ],
      "source": [
        "import os\n",
        "print(os.listdir(path))"
      ]
    },
    {
      "cell_type": "code",
      "execution_count": null,
      "metadata": {
        "colab": {
          "base_uri": "https://localhost:8080/"
        },
        "id": "euMaIxTie4Kp",
        "outputId": "fae7b656-bfda-43cc-8325-d98c1a5856c6"
      },
      "outputs": [
        {
          "output_type": "stream",
          "name": "stdout",
          "text": [
            "Data preview:\n",
            "   Unnamed: 0 label                                               text  \\\n",
            "0         605   ham  Subject: enron methanol ; meter # : 988291\\r\\n...   \n",
            "1        2349   ham  Subject: hpl nom for january 9 , 2001\\r\\n( see...   \n",
            "2        3624   ham  Subject: neon retreat\\r\\nho ho ho , we ' re ar...   \n",
            "3        4685  spam  Subject: photoshop , windows , office . cheap ...   \n",
            "4        2030   ham  Subject: re : indian springs\\r\\nthis deal is t...   \n",
            "\n",
            "   label_num  \n",
            "0          0  \n",
            "1          0  \n",
            "2          0  \n",
            "3          1  \n",
            "4          0  \n"
          ]
        }
      ],
      "source": [
        "import pandas as pd\n",
        "\n",
        "# Read CSV file\n",
        "file_path = os.path.join(path, \"spam_ham_dataset.csv\")\n",
        "df = pd.read_csv(file_path)\n",
        "\n",
        "print(\"Data preview:\")\n",
        "print(df.head())"
      ]
    },
    {
      "cell_type": "code",
      "execution_count": null,
      "metadata": {
        "colab": {
          "base_uri": "https://localhost:8080/"
        },
        "id": "w2NxRcGxfTaR",
        "outputId": "eb4da2fc-cc42-4634-ed38-0dfdab3a8a3d"
      },
      "outputs": [
        {
          "output_type": "stream",
          "name": "stdout",
          "text": [
            "Successfully loaded 5171 rows and 4 columns!\n"
          ]
        }
      ],
      "source": [
        "#df.shape\n",
        "print(\"Successfully loaded {} rows and {} columns!\".format(df.shape[0], df.shape[1]))"
      ]
    },
    {
      "cell_type": "code",
      "execution_count": null,
      "metadata": {
        "colab": {
          "base_uri": "https://localhost:8080/",
          "height": 492
        },
        "id": "Lmw02oTQfzQs",
        "outputId": "5adb588f-8b2f-4ac3-f6b5-fc1483e7467e"
      },
      "outputs": [
        {
          "output_type": "display_data",
          "data": {
            "text/plain": [
              "<Figure size 640x480 with 1 Axes>"
            ],
            "image/png": "[encoded data removed]"
          },
          "metadata": {}
        }
      ],
      "source": [
        "import matplotlib.pyplot as plt\n",
        "import seaborn as sns\n",
        "\n",
        "# Plot distribution\n",
        "sns.countplot(x='label', data=df)\n",
        "plt.xticks([0, 1], ['Ham', 'Spam'])\n",
        "plt.title(\"Distribution of Ham and Spam Emails\")\n",
        "plt.show()"
      ]
    },
    {
      "cell_type": "code",
      "execution_count": null,
      "metadata": {
        "colab": {
          "base_uri": "https://localhost:8080/"
        },
        "id": "iieZ8eCUg7ex",
        "outputId": "ef9116cb-5753-4991-d4d8-78a20bc2803e"
      },
      "outputs": [
        {
          "output_type": "stream",
          "name": "stdout",
          "text": [
            "  label  frequency\n",
            "0   ham       3672\n",
            "1  spam       1499\n"
          ]
        }
      ],
      "source": [
        "label_frequency = df['label'].value_counts().reset_index()\n",
        "\n",
        "# Rename columns for clarity\n",
        "label_frequency.columns = ['label', 'frequency']\n",
        "\n",
        "print(label_frequency)"
      ]
    },
    {
      "cell_type": "code",
      "execution_count": null,
      "metadata": {
        "colab": {
          "base_uri": "https://localhost:8080/"
        },
        "id": "U5HPHLnxhoLa",
        "outputId": "63f94c7d-f835-4ea0-99a3-9da1cee8c9a1"
      },
      "outputs": [
        {
          "output_type": "stream",
          "name": "stdout",
          "text": [
            "  label percentage\n",
            "0   ham     71.01%\n",
            "1  spam     28.99%\n"
          ]
        }
      ],
      "source": [
        "# Calculate percentage of each unique value in 'label' column\n",
        "label_percentage = df['label'].value_counts(normalize=True).reset_index()\n",
        "\n",
        "# Rename columns for clarity\n",
        "label_percentage.columns = ['label', 'percentage']\n",
        "\n",
        "# Format percentage with percent sign\n",
        "label_percentage['percentage'] = (label_percentage['percentage'] * 100).round(2).astype(str) + '%'\n",
        "\n",
        "print(label_percentage)"
      ]
    },
    {
      "cell_type": "code",
      "execution_count": null,
      "metadata": {
        "colab": {
          "base_uri": "https://localhost:8080/"
        },
        "id": "NIfo4ueah59c",
        "outputId": "77c87486-7df9-4e9a-a42e-586130f8e845"
      },
      "outputs": [
        {
          "output_type": "stream",
          "name": "stdout",
          "text": [
            "  percentage proportion\n",
            "0        ham     71.01%\n",
            "1       spam     28.99%\n"
          ]
        }
      ],
      "source": [
        "label_percentage = df['label'].value_counts(normalize=True).mul(100).round(2).astype(str) + '%'\n",
        "label_percentage = label_percentage.reset_index().rename(columns={'index': 'label', 'label': 'percentage'})\n",
        "\n",
        "print(label_percentage)\n"
      ]
    },
    {
      "cell_type": "code",
      "execution_count": null,
      "metadata": {
        "id": "0pevIfDMknON"
      },
      "outputs": [],
      "source": [
        "import pandas as pd\n",
        "import numpy as np\n",
        "import matplotlib.pyplot as plt\n",
        "import seaborn as sns\n",
        "from sklearn.model_selection import train_test_split\n",
        "from sklearn.feature_extraction.text import TfidfVectorizer\n",
        "from sklearn.linear_model import LogisticRegression\n",
        "from sklearn.svm import SVC\n",
        "from sklearn.ensemble import RandomForestClassifier\n",
        "from sklearn.metrics import classification_report, accuracy_score\n"
      ]
    },
    {
      "cell_type": "code",
      "execution_count": null,
      "metadata": {
        "id": "ppt7SCeIXz9A"
      },
      "outputs": [],
      "source": [
        "from imblearn.over_sampling import RandomOverSampler\n",
        "\n",
        "# Separate features and target variable\n",
        "X = df['text']\n",
        "y = df['label']\n",
        "\n",
        "# Apply random oversampling\n",
        "oversampler = RandomOverSampler(random_state=42)\n",
        "X_resampled, y_resampled = oversampler.fit_resample(X.values.reshape(-1, 1), y)"
      ]
    },
    {
      "cell_type": "code",
      "source": [
        "# Convert y_resampled to a DataFrame for easier manipulation\n",
        "y_resampled_df = pd.DataFrame(y_resampled, columns=['label'])\n",
        "\n",
        "# Calculate frequency and percentage for each label\n",
        "frequency = y_resampled_df['label'].value_counts()\n",
        "percentage = y_resampled_df['label'].value_counts(normalize=True) * 100\n",
        "\n",
        "# Display frequency and percentage\n",
        "print(\"Frequency of each label after resampling:\")\n",
        "print(frequency)\n",
        "print(\"\\nPercentage of each label after resampling:\")\n",
        "print(percentage)"
      ],
      "metadata": {
        "colab": {
          "base_uri": "https://localhost:8080/"
        },
        "id": "tHe9NQ7-cxkZ",
        "outputId": "3df8660b-40f9-415a-d11d-db92550a2e62"
      },
      "execution_count": null,
      "outputs": [
        {
          "output_type": "stream",
          "name": "stdout",
          "text": [
            "Frequency of each label after resampling:\n",
            "label\n",
            "ham     3672\n",
            "spam    3672\n",
            "Name: count, dtype: int64\n",
            "\n",
            "Percentage of each label after resampling:\n",
            "label\n",
            "ham     50.0\n",
            "spam    50.0\n",
            "Name: proportion, dtype: float64\n"
          ]
        }
      ]
    },
    {
      "cell_type": "code",
      "execution_count": null,
      "metadata": {
        "colab": {
          "base_uri": "https://localhost:8080/"
        },
        "id": "ThNCL_bQZTA3",
        "outputId": "1e489e6f-985a-4fa2-9671-30ac5d3530f4"
      },
      "outputs": [
        {
          "output_type": "execute_result",
          "data": {
            "text/plain": [
              "7344"
            ]
          },
          "metadata": {},
          "execution_count": 18
        }
      ],
      "source": [
        "len(X_resampled)"
      ]
    },
    {
      "cell_type": "code",
      "execution_count": null,
      "metadata": {
        "id": "QkQnjBnTl-mn"
      },
      "outputs": [],
      "source": [
        "# Split the data into features and target variable\n",
        "X = df['text']\n",
        "y = df['label']\n",
        "\n",
        "# Split the dataset into training and test sets\n",
        "X_train, X_test, y_train, y_test = train_test_split(X, y, test_size=0.2, random_state=42)\n"
      ]
    },
    {
      "cell_type": "code",
      "execution_count": null,
      "metadata": {
        "id": "xVLhrZmsmK6O"
      },
      "outputs": [],
      "source": [
        "# Create a TF-IDF Vectorizer\n",
        "vectorizer = TfidfVectorizer()\n",
        "\n",
        "# Fit and transform the training data, and transform the test data\n",
        "X_train_tfidf = vectorizer.fit_transform(X_train)\n",
        "X_test_tfidf = vectorizer.transform(X_test)\n"
      ]
    },
    {
      "cell_type": "code",
      "execution_count": null,
      "metadata": {
        "colab": {
          "base_uri": "https://localhost:8080/"
        },
        "id": "qYJSM1_amVXU",
        "outputId": "271bcb50-aa24-49ce-9cb1-ac83db1b3a14"
      },
      "outputs": [
        {
          "output_type": "stream",
          "name": "stdout",
          "text": [
            "Logistic Regression:\n",
            "Accuracy: 0.9835748792270531\n",
            "              precision    recall  f1-score   support\n",
            "\n",
            "         ham       0.99      0.99      0.99       742\n",
            "        spam       0.97      0.98      0.97       293\n",
            "\n",
            "    accuracy                           0.98      1035\n",
            "   macro avg       0.98      0.98      0.98      1035\n",
            "weighted avg       0.98      0.98      0.98      1035\n",
            "\n"
          ]
        }
      ],
      "source": [
        "# Initialize and fit the Logistic Regression model\n",
        "logistic_model = LogisticRegression()\n",
        "logistic_model.fit(X_train_tfidf, y_train)\n",
        "\n",
        "# Make predictions\n",
        "logistic_predictions = logistic_model.predict(X_test_tfidf)\n",
        "\n",
        "# Evaluate the model\n",
        "print(\"Logistic Regression:\")\n",
        "print(\"Accuracy:\", accuracy_score(y_test, logistic_predictions))\n",
        "print(classification_report(y_test, logistic_predictions))\n"
      ]
    },
    {
      "cell_type": "code",
      "execution_count": null,
      "metadata": {
        "colab": {
          "base_uri": "https://localhost:8080/"
        },
        "id": "lBLOMFigmesf",
        "outputId": "1e05b9bd-4bfe-4d92-eabd-d9f996229e60"
      },
      "outputs": [
        {
          "output_type": "stream",
          "name": "stdout",
          "text": [
            "Support Vector Classifier (SVC):\n",
            "Accuracy: 0.9855072463768116\n",
            "              precision    recall  f1-score   support\n",
            "\n",
            "         ham       1.00      0.98      0.99       742\n",
            "        spam       0.96      0.99      0.97       293\n",
            "\n",
            "    accuracy                           0.99      1035\n",
            "   macro avg       0.98      0.99      0.98      1035\n",
            "weighted avg       0.99      0.99      0.99      1035\n",
            "\n"
          ]
        }
      ],
      "source": [
        "# Initialize and fit the SVC model\n",
        "svc_model = SVC()\n",
        "svc_model.fit(X_train_tfidf, y_train)\n",
        "\n",
        "# Make predictions\n",
        "svc_predictions = svc_model.predict(X_test_tfidf)\n",
        "\n",
        "# Evaluate the model\n",
        "print(\"Support Vector Classifier (SVC):\")\n",
        "print(\"Accuracy:\", accuracy_score(y_test, svc_predictions))\n",
        "print(classification_report(y_test, svc_predictions))\n"
      ]
    },
    {
      "cell_type": "code",
      "execution_count": null,
      "metadata": {
        "colab": {
          "base_uri": "https://localhost:8080/"
        },
        "id": "jXn2ulvRmnhA",
        "outputId": "b2db4931-397b-4708-c147-2c9aedd438c6"
      },
      "outputs": [
        {
          "output_type": "stream",
          "name": "stdout",
          "text": [
            "Random Forest Classifier:\n",
            "Accuracy: 0.9777777777777777\n",
            "              precision    recall  f1-score   support\n",
            "\n",
            "         ham       0.98      0.99      0.98       742\n",
            "        spam       0.98      0.94      0.96       293\n",
            "\n",
            "    accuracy                           0.98      1035\n",
            "   macro avg       0.98      0.97      0.97      1035\n",
            "weighted avg       0.98      0.98      0.98      1035\n",
            "\n"
          ]
        }
      ],
      "source": [
        "# Initialize and fit the Random Forest model\n",
        "rf_model = RandomForestClassifier()\n",
        "rf_model.fit(X_train_tfidf, y_train)\n",
        "\n",
        "# Make predictions\n",
        "rf_predictions = rf_model.predict(X_test_tfidf)\n",
        "\n",
        "# Evaluate the model\n",
        "print(\"Random Forest Classifier:\")\n",
        "print(\"Accuracy:\", accuracy_score(y_test, rf_predictions))\n",
        "print(classification_report(y_test, rf_predictions))\n"
      ]
    }
  ],
  "metadata": {
    "colab": {
      "provenance": [],
      "toc_visible": true,
      "authorship_tag": "ABX9TyOw8cRL4puYabjyUbWGR4fS",
      "include_colab_link": true
    },
    "kernelspec": {
      "display_name": "Python 3",
      "name": "python3"
    },
    "language_info": {
      "name": "python"
    }
  },
  "nbformat": 4,
  "nbformat_minor": 0
}