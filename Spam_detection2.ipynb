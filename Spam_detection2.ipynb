{
  "cells": [
    {
      "cell_type": "code",
      "execution_count": null,
      "metadata": {
        "colab": {
          "base_uri": "https://localhost:8080/"
        },
        "id": "EbdEXe8zelUc",
        "outputId": "48aa5cca-ed24-40bd-ab8f-0efe7466dcbd"
      },
      "outputs": [
        {
          "output_type": "stream",
          "name": "stdout",
          "text": [
            "Downloading from https://www.kaggle.com/api/v1/datasets/download/venky73/spam-mails-dataset?dataset_version_number=1...\n"
          ]
        },
        {
          "output_type": "stream",
          "name": "stderr",
          "text": [
            "100%|██████████| 1.86M/1.86M [00:00<00:00, 55.8MB/s]"
          ]
        },
        {
          "output_type": "stream",
          "name": "stdout",
          "text": [
            "Extracting files...\n",
            "Path to dataset files: /root/.cache/kagglehub/datasets/venky73/spam-mails-dataset/versions/1\n"
          ]
        },
        {
          "output_type": "stream",
          "name": "stderr",
          "text": [
            "\n"
          ]
        }
      ],
      "source": [
        "import kagglehub\n",
        "\n",
        "# Download latest version\n",
        "path = kagglehub.dataset_download(\"venky73/spam-mails-dataset\")\n",
        "\n",
        "print(\"Path to dataset files:\", path)"
      ]
    },
    {
      "cell_type": "code",
      "execution_count": null,
      "metadata": {
        "colab": {
          "base_uri": "https://localhost:8080/"
        },
        "id": "zutsan0tevCe",
        "outputId": "05ff5271-0e4e-4694-e493-6a86813992b4"
      },
      "outputs": [
        {
          "output_type": "stream",
          "name": "stdout",
          "text": [
            "['spam_ham_dataset.csv']\n"
          ]
        }
      ],
      "source": [
        "import os\n",
        "print(os.listdir(path))"
      ]
    },
    {
      "cell_type": "code",
      "execution_count": null,
      "metadata": {
        "colab": {
          "base_uri": "https://localhost:8080/"
        },
        "id": "euMaIxTie4Kp",
        "outputId": "fae7b656-bfda-43cc-8325-d98c1a5856c6"
      },
      "outputs": [
        {
          "output_type": "stream",
          "name": "stdout",
          "text": [
            "Data preview:\n",
            "   Unnamed: 0 label                                               text  \\\n",
            "0         605   ham  Subject: enron methanol ; meter # : 988291\\r\\n...   \n",
            "1        2349   ham  Subject: hpl nom for january 9 , 2001\\r\\n( see...   \n",
            "2        3624   ham  Subject: neon retreat\\r\\nho ho ho , we ' re ar...   \n",
            "3        4685  spam  Subject: photoshop , windows , office . cheap ...   \n",
            "4        2030   ham  Subject: re : indian springs\\r\\nthis deal is t...   \n",
            "\n",
            "   label_num  \n",
            "0          0  \n",
            "1          0  \n",
            "2          0  \n",
            "3          1  \n",
            "4          0  \n"
          ]
        }
      ],
      "source": [
        "import pandas as pd\n",
        "\n",
        "# Read CSV file\n",
        "file_path = os.path.join(path, \"spam_ham_dataset.csv\")\n",
        "df = pd.read_csv(file_path)\n",
        "\n",
        "print(\"Data preview:\")\n",
        "print(df.head())"
      ]
    },
    {
      "cell_type": "code",
      "execution_count": null,
      "metadata": {
        "colab": {
          "base_uri": "https://localhost:8080/"
        },
        "id": "w2NxRcGxfTaR",
        "outputId": "eb4da2fc-cc42-4634-ed38-0dfdab3a8a3d"
      },
      "outputs": [
        {
          "output_type": "stream",
          "name": "stdout",
          "text": [
            "Successfully loaded 5171 rows and 4 columns!\n"
          ]
        }
      ],
      "source": [
        "#df.shape\n",
        "print(\"Successfully loaded {} rows and {} columns!\".format(df.shape[0], df.shape[1]))"
      ]
    },
    {
      "cell_type": "code",
      "execution_count": null,
      "metadata": {
        "colab": {
          "base_uri": "https://localhost:8080/",
          "height": 492
        },
        "id": "Lmw02oTQfzQs",
        "outputId": "5adb588f-8b2f-4ac3-f6b5-fc1483e7467e"
      },
      "outputs": [
        {
          "output_type": "display_data",
          "data": {
            "text/plain": [
              "<Figure size 640x480 with 1 Axes>"
            ],
            "image/png": "[encoded data removed]"
          },
          "metadata": {}
        }
      ],
      "source": [
        "import matplotlib.pyplot as plt\n",
        "import seaborn as sns\n",
        "\n",
        "# Plot distribution\n",
        "sns.countplot(x='label', data=df)\n",
        "plt.xticks([0, 1], ['Ham', 'Spam'])\n",
        "plt.title(\"Distribution of Ham and Spam Emails\")\n",
        "plt.show()"
      ]
    },
    {
      "cell_type": "code",
      "execution_count": null,
      "metadata": {
        "colab": {
          "base_uri": "https://localhost:8080/"
        },
        "id": "iieZ8eCUg7ex",
        "outputId": "ef9116cb-5753-4991-d4d8-78a20bc2803e"
      },
      "outputs": [
        {
          "output_type": "stream",
          "name": "stdout",
          "text": [
            "  label  frequency\n",
            "0   ham       3672\n",
            "1  spam       1499\n"
          ]
        }
      ],
      "source": [
        "label_frequency = df['label'].value_counts().reset_index()\n",
        "\n",
        "# Rename columns for clarity\n",
        "label_frequency.columns = ['label', 'frequency']\n",
        "\n",
        "print(label_frequency)"
      ]
    },
    {
      "cell_type": "code",
      "execution_count": null,
      "metadata": {
        "colab": {
          "base_uri": "https://localhost:8080/"
        },
        "id": "U5HPHLnxhoLa",
        "outputId": "63f94c7d-f835-4ea0-99a3-9da1cee8c9a1"
      },
      "outputs": [
        {
          "output_type": "stream",
          "name": "stdout",
          "text": [
            "  label percentage\n",
            "0   ham     71.01%\n",
            "1  spam     28.99%\n"
          ]
        }
      ],
      "source": [
        "# Calculate percentage of each unique value in 'label' column\n",
        "label_percentage = df['label'].value_counts(normalize=True).reset_index()\n",
        "\n",
        "# Rename columns for clarity\n",
        "label_percentage.columns = ['label', 'percentage']\n",
        "\n",
        "# Format percentage with percent sign\n",
        "label_percentage['percentage'] = (label_percentage['percentage'] * 100).round(2).astype(str) + '%'\n",
        "\n",
        "print(label_percentage)"
      ]
    },
    {
      "cell_type": "code",
      "execution_count": null,
      "metadata": {
        "colab": {
          "base_uri": "https://localhost:8080/"
        },
        "id": "NIfo4ueah59c",
        "outputId": "77c87486-7df9-4e9a-a42e-586130f8e845"
      },
      "outputs": [
        {
          "output_type": "stream",
          "name": "stdout",
          "text": [
            "  percentage proportion\n",
            "0        ham     71.01%\n",
            "1       spam     28.99%\n"
          ]
        }
      ],
      "source": [
        "label_percentage = df['label'].value_counts(normalize=True).mul(100).round(2).astype(str) + '%'\n",
        "label_percentage = label_percentage.reset_index().rename(columns={'index': 'label', 'label': 'percentage'})\n",
        "\n",
        "print(label_percentage)\n"
      ]
    },
    {
      "cell_type": "code",
      "execution_count": null,
      "metadata": {
        "id": "0pevIfDMknON"
      },
      "outputs": [],
      "source": [
        "import pandas as pd\n",
        "import numpy as np\n",
        "import matplotlib.pyplot as plt\n",
        "import seaborn as sns\n",
        "from sklearn.model_selection import train_test_split\n",
        "from sklearn.feature_extraction.text import TfidfVectorizer\n",
        "from sklearn.linear_model import LogisticRegression\n",
        "from sklearn.svm import SVC\n",
        "from sklearn.ensemble import RandomForestClassifier\n",
        "from sklearn.metrics import classification_report, accuracy_score\n"
      ]
    },
    {
      "cell_type": "code",
      "execution_count": null,
      "metadata": {
        "id": "ppt7SCeIXz9A"
      },
      "outputs": [],
      "source": [
        "from imblearn.over_sampling import RandomOverSampler\n",
        "\n",
        "# Separate features and target variable\n",
        "X = df['text']\n",
        "y = df['label']\n",
        "\n",
        "# Apply random oversampling\n",
        "oversampler = RandomOverSampler(random_state=42)\n",
        "X_resampled, y_resampled = oversampler.fit_resample(X.values.reshape(-1, 1), y)"
      ]
    },
    {
      "cell_type": "code",
      "source": [
        "# Convert y_resampled to a DataFrame for easier manipulation\n",
        "y_resampled_df = pd.DataFrame(y_resampled, columns=['label'])\n",
        "\n",
        "# Calculate frequency and percentage for each label\n",
        "frequency = y_resampled_df['label'].value_counts()\n",
        "percentage = y_resampled_df['label'].value_counts(normalize=True) * 100\n",
        "\n",
        "# Display frequency and percentage\n",
        "print(\"Frequency of each label after resampling:\")\n",
        "print(frequency)\n",
        "print(\"\\nPercentage of each label after resampling:\")\n",
        "print(percentage)"
      ],
      "metadata": {
        "colab": {
          "base_uri": "https://localhost:8080/"
        },
        "id": "tHe9NQ7-cxkZ",
        "outputId": "3df8660b-40f9-415a-d11d-db92550a2e62"
      },
      "execution_count": null,
      "outputs": [
        {
          "output_type": "stream",
          "name": "stdout",
          "text": [
            "Frequency of each label after resampling:\n",
            "label\n",
            "ham     3672\n",
            "spam    3672\n",
            "Name: count, dtype: int64\n",
            "\n",
            "Percentage of each label after resampling:\n",
            "label\n",
            "ham     50.0\n",
            "spam    50.0\n",
            "Name: proportion, dtype: float64\n"
          ]
        }
      ]
    },
    {
      "cell_type": "code",
      "execution_count": null,
      "metadata": {
        "colab": {
          "base_uri": "https://localhost:8080/"
        },
        "id": "ThNCL_bQZTA3",
        "outputId": "1e489e6f-985a-4fa2-9671-30ac5d3530f4"
      },
      "outputs": [
        {
          "output_type": "execute_result",
          "data": {
            "text/plain": [
              "7344"
            ]
          },
          "metadata": {},
          "execution_count": 18
        }
      ],
      "source": [
        "len(X_resampled)"
      ]
    },
    {
      "cell_type": "code",
      "execution_count": null,
      "metadata": {
        "id": "QkQnjBnTl-mn"
      },
      "outputs": [],
      "source": [
        "# Split the data into features and target variable\n",
        "X = df['text']\n",
        "y = df['label']\n",
        "\n",
        "# Split the dataset into training and test sets\n",
        "X_train, X_test, y_train, y_test = train_test_split(X, y, test_size=0.2, random_state=42)\n"
      ]
    },
    {
      "cell_type": "code",
      "execution_count": null,
      "metadata": {
        "id": "xVLhrZmsmK6O"
      },
      "outputs": [],
      "source": [
        "# Create a TF-IDF Vectorizer\n",
        "vectorizer = TfidfVectorizer()\n",
        "\n",
        "# Fit and transform the training data, and transform the test data\n",
        "X_train_tfidf = vectorizer.fit_transform(X_train)\n",
        "X_test_tfidf = vectorizer.transform(X_test)\n"
      ]
    },
    {
      "cell_type": "code",
      "execution_count": null,
      "metadata": {
        "colab": {
          "base_uri": "https://localhost:8080/"
        },
        "id": "qYJSM1_amVXU",
        "outputId": "271bcb50-aa24-49ce-9cb1-ac83db1b3a14"
      },
      "outputs": [
        {
          "output_type": "stream",
          "name": "stdout",
          "text": [
            "Logistic Regression:\n",
            "Accuracy: 0.9835748792270531\n",
            "              precision    recall  f1-score   support\n",
            "\n",
            "         ham       0.99      0.99      0.99       742\n",
            "        spam       0.97      0.98      0.97       293\n",
            "\n",
            "    accuracy                           0.98      1035\n",
            "   macro avg       0.98      0.98      0.98      1035\n",
            "weighted avg       0.98      0.98      0.98      1035\n",
            "\n"
          ]
        }
      ],
      "source": [
        "# Initialize and fit the Logistic Regression model\n",
        "logistic_model = LogisticRegression()\n",
        "logistic_model.fit(X_train_tfidf, y_train)\n",
        "\n",
        "# Make predictions\n",
        "logistic_predictions = logistic_model.predict(X_test_tfidf)\n",
        "\n",
        "# Evaluate the model\n",
        "print(\"Logistic Regression:\")\n",
        "print(\"Accuracy:\", accuracy_score(y_test, logistic_predictions))\n",
        "print(classification_report(y_test, logistic_predictions))\n"
      ]
    },
    {
      "cell_type": "code",
      "execution_count": null,
      "metadata": {
        "colab": {
          "base_uri": "https://localhost:8080/"
        },
        "id": "lBLOMFigmesf",
        "outputId": "1e05b9bd-4bfe-4d92-eabd-d9f996229e60"
      },
      "outputs": [
        {
          "output_type": "stream",
          "name": "stdout",
          "text": [
            "Support Vector Classifier (SVC):\n",
            "Accuracy: 0.9855072463768116\n",
            "              precision    recall  f1-score   support\n",
            "\n",
            "         ham       1.00      0.98      0.99       742\n",
            "        spam       0.96      0.99      0.97       293\n",
            "\n",
            "    accuracy                           0.99      1035\n",
            "   macro avg       0.98      0.99      0.98      1035\n",
            "weighted avg       0.99      0.99      0.99      1035\n",
            "\n"
          ]
        }
      ],
      "source": [
        "# Initialize and fit the SVC model\n",
        "svc_model = SVC()\n",
        "svc_model.fit(X_train_tfidf, y_train)\n",
        "\n",
        "# Make predictions\n",
        "svc_predictions = svc_model.predict(X_test_tfidf)\n",
        "\n",
        "# Evaluate the model\n",
        "print(\"Support Vector Classifier (SVC):\")\n",
        "print(\"Accuracy:\", accuracy_score(y_test, svc_predictions))\n",
        "print(classification_report(y_test, svc_predictions))\n"
      ]
    },
    {
      "cell_type": "code",
      "execution_count": null,
      "metadata": {
        "colab": {
          "base_uri": "https://localhost:8080/"
        },
        "id": "jXn2ulvRmnhA",
        "outputId": "b2db4931-397b-4708-c147-2c9aedd438c6"
      },
      "outputs": [
        {
          "output_type": "stream",
          "name": "stdout",
          "text": [
            "Random Forest Classifier:\n",
            "Accuracy: 0.9777777777777777\n",
            "              precision    recall  f1-score   support\n",
            "\n",
            "         ham       0.98      0.99      0.98       742\n",
            "        spam       0.98      0.94      0.96       293\n",
            "\n",
            "    accuracy                           0.98      1035\n",
            "   macro avg       0.98      0.97      0.97      1035\n",
            "weighted avg       0.98      0.98      0.98      1035\n",
            "\n"
          ]
        }
      ],
      "source": [
        "# Initialize and fit the Random Forest model\n",
        "rf_model = RandomForestClassifier()\n",
        "rf_model.fit(X_train_tfidf, y_train)\n",
        "\n",
        "# Make predictions\n",
        "rf_predictions = rf_model.predict(X_test_tfidf)\n",
        "\n",
        "# Evaluate the model\n",
        "print(\"Random Forest Classifier:\")\n",
        "print(\"Accuracy:\", accuracy_score(y_test, rf_predictions))\n",
        "print(classification_report(y_test, rf_predictions))\n"
      ]
    },
    {
      "cell_type": "code",
      "execution_count": null,
      "metadata": {
        "colab": {
          "base_uri": "https://localhost:8080/"
        },
        "id": "CYWi1jG3oZtO",
        "outputId": "5e229b2e-bad1-41ba-ea31-d31a028eeb94"
      },
      "outputs": [
        {
          "output_type": "stream",
          "name": "stdout",
          "text": [
            "Downloading from https://www.kaggle.com/api/v1/datasets/download/wcukierski/enron-email-dataset?dataset_version_number=2...\n"
          ]
        },
        {
          "output_type": "stream",
          "name": "stderr",
          "text": [
            "100%|██████████| 358M/358M [00:03<00:00, 102MB/s]"
          ]
        },
        {
          "output_type": "stream",
          "name": "stdout",
          "text": [
            "Extracting files...\n"
          ]
        },
        {
          "output_type": "stream",
          "name": "stderr",
          "text": [
            "\n"
          ]
        },
        {
          "output_type": "stream",
          "name": "stdout",
          "text": [
            "Path to dataset files: /root/.cache/kagglehub/datasets/wcukierski/enron-email-dataset/versions/2\n"
          ]
        }
      ],
      "source": [
        "import kagglehub\n",
        "\n",
        "# Download latest version\n",
        "path = kagglehub.dataset_download(\"wcukierski/enron-email-dataset\")\n",
        "\n",
        "print(\"Path to dataset files:\", path)"
      ]
    },
    {
      "cell_type": "code",
      "execution_count": null,
      "metadata": {
        "colab": {
          "base_uri": "https://localhost:8080/"
        },
        "id": "PlT8y3cPoop7",
        "outputId": "5b896d91-f16f-4d4b-8f74-baddbcc161e7"
      },
      "outputs": [
        {
          "output_type": "stream",
          "name": "stdout",
          "text": [
            "['emails.csv']\n"
          ]
        }
      ],
      "source": [
        "import os\n",
        "print(os.listdir(path))"
      ]
    },
    {
      "cell_type": "code",
      "execution_count": null,
      "metadata": {
        "colab": {
          "base_uri": "https://localhost:8080/"
        },
        "id": "57SZtRi_o49S",
        "outputId": "d635a34f-dc43-44b8-ae43-40f996185b7a"
      },
      "outputs": [
        {
          "output_type": "stream",
          "name": "stdout",
          "text": [
            "Data preview:\n",
            "                       file                                            message\n",
            "0     allen-p/_sent_mail/1.  Message-ID: <18782981.1075855378110.JavaMail.e...\n",
            "1    allen-p/_sent_mail/10.  Message-ID: <15464986.1075855378456.JavaMail.e...\n",
            "2   allen-p/_sent_mail/100.  Message-ID: <24216240.1075855687451.JavaMail.e...\n",
            "3  allen-p/_sent_mail/1000.  Message-ID: <13505866.1075863688222.JavaMail.e...\n",
            "4  allen-p/_sent_mail/1001.  Message-ID: <30922949.1075863688243.JavaMail.e...\n"
          ]
        }
      ],
      "source": [
        "# Read CSV file\n",
        "file_path = os.path.join(path, \"emails.csv\")\n",
        "unlabeled_data = pd.read_csv(file_path)\n",
        "\n",
        "print(\"Data preview:\")\n",
        "print(unlabeled_data.head())"
      ]
    },
    {
      "cell_type": "code",
      "execution_count": null,
      "metadata": {
        "colab": {
          "base_uri": "https://localhost:8080/"
        },
        "id": "M45FGpswpliq",
        "outputId": "de012a3c-2ab0-4900-a32d-91a94a3a2c87"
      },
      "outputs": [
        {
          "output_type": "stream",
          "name": "stdout",
          "text": [
            "Unlabeled Dataset Predictions:\n",
            "                                             message predicted_label\n",
            "0  Message-ID: <18782981.1075855378110.JavaMail.e...             ham\n",
            "1  Message-ID: <15464986.1075855378456.JavaMail.e...             ham\n",
            "2  Message-ID: <24216240.1075855687451.JavaMail.e...             ham\n",
            "3  Message-ID: <13505866.1075863688222.JavaMail.e...             ham\n",
            "4  Message-ID: <30922949.1075863688243.JavaMail.e...             ham\n"
          ]
        }
      ],
      "source": [
        "# Extract the text column from the unlabeled dataset\n",
        "X_unlabeled = unlabeled_data['message']\n",
        "\n",
        "# Transform the unlabeled data using the same vectorizer\n",
        "X_unlabeled_tfidf = vectorizer.transform(X_unlabeled)\n",
        "\n",
        "# Make predictions on the unlabeled dataset\n",
        "unlabeled_predictions = logistic_model.predict(X_unlabeled_tfidf)\n",
        "\n",
        "# Add predictions to the unlabeled DataFrame\n",
        "unlabeled_data['predicted_label'] = unlabeled_predictions\n",
        "\n",
        "# Preview the results\n",
        "print(\"Unlabeled Dataset Predictions:\")\n",
        "print(unlabeled_data[['message', 'predicted_label']].head())\n"
      ]
    },
    {
      "cell_type": "code",
      "execution_count": null,
      "metadata": {
        "colab": {
          "base_uri": "https://localhost:8080/",
          "height": 820
        },
        "id": "RobRJBPxsOJU",
        "outputId": "2d01f16a-ede5-4ef2-8431-b1a5e195627f"
      },
      "outputs": [
        {
          "output_type": "stream",
          "name": "stdout",
          "text": [
            "Unlabeled Dataset Predictions:\n",
            "                                             message predicted_label\n",
            "0  Message-ID: <18782981.1075855378110.JavaMail.e...             ham\n",
            "1  Message-ID: <15464986.1075855378456.JavaMail.e...             ham\n",
            "2  Message-ID: <24216240.1075855687451.JavaMail.e...             ham\n",
            "3  Message-ID: <13505866.1075863688222.JavaMail.e...             ham\n",
            "4  Message-ID: <30922949.1075863688243.JavaMail.e...             ham\n"
          ]
        },
        {
          "output_type": "stream",
          "name": "stderr",
          "text": [
            "<ipython-input-30-87c40808b61d>:7: FutureWarning: \n",
            "\n",
            "Passing `palette` without assigning `hue` is deprecated and will be removed in v0.14.0. Assign the `x` variable to `hue` and set `legend=False` for the same effect.\n",
            "\n",
            "  sns.countplot(data=unlabeled_data, x='predicted_label', palette='viridis')\n"
          ]
        },
        {
          "output_type": "display_data",
          "data": {
            "text/plain": [
              "<Figure size 1000x600 with 1 Axes>"
            ],
            "image/png": "[encoded data removed]"
          },
          "metadata": {}
        }
      ],
      "source": [
        "# Preview the results\n",
        "print(\"Unlabeled Dataset Predictions:\")\n",
        "print(unlabeled_data[['message', 'predicted_label']].head())\n",
        "\n",
        "# Plot the distribution of predicted labels\n",
        "plt.figure(figsize=(10, 6))\n",
        "sns.countplot(data=unlabeled_data, x='predicted_label', palette='viridis')\n",
        "plt.title('Predicted Label Distribution on Unlabeled Data')\n",
        "plt.xlabel('Predicted Label')\n",
        "plt.ylabel('Count')\n",
        "plt.xticks(rotation=45)\n",
        "plt.grid(axis='y')\n",
        "plt.show()"
      ]
    },
    {
      "cell_type": "code",
      "execution_count": null,
      "metadata": {
        "colab": {
          "base_uri": "https://localhost:8080/",
          "height": 856
        },
        "id": "mvu-43h524Zo",
        "outputId": "7ed0ed78-c3f2-4283-ae6a-581863fc0ddb"
      },
      "outputs": [
        {
          "output_type": "stream",
          "name": "stdout",
          "text": [
            "Unlabeled Dataset Predictions:\n",
            "                                             message predicted_label\n",
            "0  Message-ID: <18782981.1075855378110.JavaMail.e...             ham\n",
            "1  Message-ID: <15464986.1075855378456.JavaMail.e...             ham\n",
            "2  Message-ID: <24216240.1075855687451.JavaMail.e...             ham\n",
            "3  Message-ID: <13505866.1075863688222.JavaMail.e...             ham\n",
            "4  Message-ID: <30922949.1075863688243.JavaMail.e...             ham\n",
            "Predictions saved to /content/unlabeled_predictions.csv\n"
          ]
        },
        {
          "output_type": "stream",
          "name": "stderr",
          "text": [
            "<ipython-input-31-e2fa99b9726d>:12: FutureWarning: \n",
            "\n",
            "Passing `palette` without assigning `hue` is deprecated and will be removed in v0.14.0. Assign the `x` variable to `hue` and set `legend=False` for the same effect.\n",
            "\n",
            "  sns.countplot(data=unlabeled_data, x='predicted_label', palette='viridis')\n"
          ]
        },
        {
          "output_type": "stream",
          "name": "stdout",
          "text": [
            "Plot saved to predicted_label_distribution.png\n"
          ]
        },
        {
          "output_type": "display_data",
          "data": {
            "text/plain": [
              "<Figure size 1000x600 with 1 Axes>"
            ],
            "image/png": "[encoded data removed]"
          },
          "metadata": {}
        }
      ],
      "source": [
        "# Assuming unlabeled_data contains the predictions\n",
        "print(\"Unlabeled Dataset Predictions:\")\n",
        "print(unlabeled_data[['message', 'predicted_label']].head())\n",
        "\n",
        "# Save the predictions to a CSV file\n",
        "output_file_path = '/content/unlabeled_predictions.csv'\n",
        "#unlabeled_data.to_csv(output_file_path, index=False)\n",
        "print(f\"Predictions saved to {output_file_path}\")\n",
        "\n",
        "# Plot the distribution of predicted labels\n",
        "plt.figure(figsize=(10, 6))\n",
        "sns.countplot(data=unlabeled_data, x='predicted_label', palette='viridis')\n",
        "plt.title('Predicted Label Distribution on Unlabeled Data')\n",
        "plt.xlabel('Predicted Label')\n",
        "plt.ylabel('Count')\n",
        "plt.xticks(rotation=45)\n",
        "plt.grid(axis='y')\n",
        "\n",
        "# Save the plot as an image\n",
        "plot_file_path = 'predicted_label_distribution.png'  # Specify your desired image file path\n",
        "plt.savefig(plot_file_path)\n",
        "print(f\"Plot saved to {plot_file_path}\")\n",
        "\n",
        "# Show the plot\n",
        "plt.show()"
      ]
    },
    {
      "cell_type": "code",
      "execution_count": null,
      "metadata": {
        "colab": {
          "base_uri": "https://localhost:8080/",
          "height": 93
        },
        "id": "E7qLuqFmb4A_",
        "outputId": "3cc26fda-7427-4b0f-e022-92d47393d8de"
      },
      "outputs": [
        {
          "output_type": "display_data",
          "data": {
            "text/plain": [
              "<IPython.core.display.HTML object>"
            ],
            "text/html": [
              "\n",
              "     <input type=\"file\" id=\"files-eb389386-171a-4d7d-a3a2-72813e8e37e3\" name=\"files[]\" multiple disabled\n",
              "        style=\"border:none\" />\n",
              "     <output id=\"result-eb389386-171a-4d7d-a3a2-72813e8e37e3\">\n",
              "      Upload widget is only available when the cell has been executed in the\n",
              "      current browser session. Please rerun this cell to enable.\n",
              "      </output>\n",
              "      <script>// Copyright 2017 Google LLC\n",
              "//\n",
              "// Licensed under the Apache License, Version 2.0 (the \"License\");\n",
              "// you may not use this file except in compliance with the License.\n",
              "// You may obtain a copy of the License at\n",
              "//\n",
              "//      http://www.apache.org/licenses/LICENSE-2.0\n",
              "//\n",
              "// Unless required by applicable law or agreed to in writing, software\n",
              "// distributed under the License is distributed on an \"AS IS\" BASIS,\n",
              "// WITHOUT WARRANTIES OR CONDITIONS OF ANY KIND, either express or implied.\n",
              "// See the License for the specific language governing permissions and\n",
              "// limitations under the License.\n",
              "\n",
              "/**\n",
              " * @fileoverview Helpers for google.colab Python module.\n",
              " */\n",
              "(function(scope) {\n",
              "function span(text, styleAttributes = {}) {\n",
              "  const element = document.createElement('span');\n",
              "  element.textContent = text;\n",
              "  for (const key of Object.keys(styleAttributes)) {\n",
              "    element.style[key] = styleAttributes[key];\n",
              "  }\n",
              "  return element;\n",
              "}\n",
              "\n",
              "// Max number of bytes which will be uploaded at a time.\n",
              "const MAX_PAYLOAD_SIZE = 100 * 1024;\n",
              "\n",
              "function _uploadFiles(inputId, outputId) {\n",
              "  const steps = uploadFilesStep(inputId, outputId);\n",
              "  const outputElement = document.getElementById(outputId);\n",
              "  // Cache steps on the outputElement to make it available for the next call\n",
              "  // to uploadFilesContinue from Python.\n",
              "  outputElement.steps = steps;\n",
              "\n",
              "  return _uploadFilesContinue(outputId);\n",
              "}\n",
              "\n",
              "// This is roughly an async generator (not supported in the browser yet),\n",
              "// where there are multiple asynchronous steps and the Python side is going\n",
              "// to poll for completion of each step.\n",
              "// This uses a Promise to block the python side on completion of each step,\n",
              "// then passes the result of the previous step as the input to the next step.\n",
              "function _uploadFilesContinue(outputId) {\n",
              "  const outputElement = document.getElementById(outputId);\n",
              "  const steps = outputElement.steps;\n",
              "\n",
              "  const next = steps.next(outputElement.lastPromiseValue);\n",
              "  return Promise.resolve(next.value.promise).then((value) => {\n",
              "    // Cache the last promise value to make it available to the next\n",
              "    // step of the generator.\n",
              "    outputElement.lastPromiseValue = value;\n",
              "    return next.value.response;\n",
              "  });\n",
              "}\n",
              "\n",
              "/**\n",
              " * Generator function which is called between each async step of the upload\n",
              " * process.\n",
              " * @param {string} inputId Element ID of the input file picker element.\n",
              " * @param {string} outputId Element ID of the output display.\n",
              " * @return {!Iterable<!Object>} Iterable of next steps.\n",
              " */\n",
              "function* uploadFilesStep(inputId, outputId) {\n",
              "  const inputElement = document.getElementById(inputId);\n",
              "  inputElement.disabled = false;\n",
              "\n",
              "  const outputElement = document.getElementById(outputId);\n",
              "  outputElement.innerHTML = '';\n",
              "\n",
              "  const pickedPromise = new Promise((resolve) => {\n",
              "    inputElement.addEventListener('change', (e) => {\n",
              "      resolve(e.target.files);\n",
              "    });\n",
              "  });\n",
              "\n",
              "  const cancel = document.createElement('button');\n",
              "  inputElement.parentElement.appendChild(cancel);\n",
              "  cancel.textContent = 'Cancel upload';\n",
              "  const cancelPromise = new Promise((resolve) => {\n",
              "    cancel.onclick = () => {\n",
              "      resolve(null);\n",
              "    };\n",
              "  });\n",
              "\n",
              "  // Wait for the user to pick the files.\n",
              "  const files = yield {\n",
              "    promise: Promise.race([pickedPromise, cancelPromise]),\n",
              "    response: {\n",
              "      action: 'starting',\n",
              "    }\n",
              "  };\n",
              "\n",
              "  cancel.remove();\n",
              "\n",
              "  // Disable the input element since further picks are not allowed.\n",
              "  inputElement.disabled = true;\n",
              "\n",
              "  if (!files) {\n",
              "    return {\n",
              "      response: {\n",
              "        action: 'complete',\n",
              "      }\n",
              "    };\n",
              "  }\n",
              "\n",
              "  for (const file of files) {\n",
              "    const li = document.createElement('li');\n",
              "    li.append(span(file.name, {fontWeight: 'bold'}));\n",
              "    li.append(span(\n",
              "        `(${file.type || 'n/a'}) - ${file.size} bytes, ` +\n",
              "        `last modified: ${\n",
              "            file.lastModifiedDate ? file.lastModifiedDate.toLocaleDateString() :\n",
              "                                    'n/a'} - `));\n",
              "    const percent = span('0% done');\n",
              "    li.appendChild(percent);\n",
              "\n",
              "    outputElement.appendChild(li);\n",
              "\n",
              "    const fileDataPromise = new Promise((resolve) => {\n",
              "      const reader = new FileReader();\n",
              "      reader.onload = (e) => {\n",
              "        resolve(e.target.result);\n",
              "      };\n",
              "      reader.readAsArrayBuffer(file);\n",
              "    });\n",
              "    // Wait for the data to be ready.\n",
              "    let fileData = yield {\n",
              "      promise: fileDataPromise,\n",
              "      response: {\n",
              "        action: 'continue',\n",
              "      }\n",
              "    };\n",
              "\n",
              "    // Use a chunked sending to avoid message size limits. See b/62115660.\n",
              "    let position = 0;\n",
              "    do {\n",
              "      const length = Math.min(fileData.byteLength - position, MAX_PAYLOAD_SIZE);\n",
              "      const chunk = new Uint8Array(fileData, position, length);\n",
              "      position += length;\n",
              "\n",
              "      const base64 = btoa(String.fromCharCode.apply(null, chunk));\n",
              "      yield {\n",
              "        response: {\n",
              "          action: 'append',\n",
              "          file: file.name,\n",
              "          data: base64,\n",
              "        },\n",
              "      };\n",
              "\n",
              "      let percentDone = fileData.byteLength === 0 ?\n",
              "          100 :\n",
              "          Math.round((position / fileData.byteLength) * 100);\n",
              "      percent.textContent = `${percentDone}% done`;\n",
              "\n",
              "    } while (position < fileData.byteLength);\n",
              "  }\n",
              "\n",
              "  // All done.\n",
              "  yield {\n",
              "    response: {\n",
              "      action: 'complete',\n",
              "    }\n",
              "  };\n",
              "}\n",
              "\n",
              "scope.google = scope.google || {};\n",
              "scope.google.colab = scope.google.colab || {};\n",
              "scope.google.colab._files = {\n",
              "  _uploadFiles,\n",
              "  _uploadFilesContinue,\n",
              "};\n",
              "})(self);\n",
              "</script> "
            ]
          },
          "metadata": {}
        },
        {
          "output_type": "stream",
          "name": "stdout",
          "text": [
            "Saving unlabeled_predictions.csv to unlabeled_predictions.csv\n"
          ]
        }
      ],
      "source": [
        "from google.colab import files\n",
        "uploaded = files.upload()"
      ]
    },
    {
      "cell_type": "code",
      "execution_count": null,
      "metadata": {
        "id": "g1hDY3P7b-AS",
        "colab": {
          "base_uri": "https://localhost:8080/"
        },
        "outputId": "9bead35b-b339-4c14-ff6a-ee7f83cbeb1f"
      },
      "outputs": [
        {
          "output_type": "stream",
          "name": "stdout",
          "text": [
            "/content\n"
          ]
        }
      ],
      "source": [
        "import os\n",
        "\n",
        "curr_dir = os.getcwd()\n",
        "print(curr_dir)"
      ]
    },
    {
      "cell_type": "code",
      "source": [
        "import pandas as pd\n",
        "from sklearn.feature_extraction.text import TfidfVectorizer\n",
        "\n",
        "# Sample code to load labeled_data\n",
        "labeled_data = pd.read_csv('unlabeled_predictions.csv')  # Replace with your file path\n",
        "\n",
        "# Initialize and fit the vectorizer on some training data\n",
        "vectorizer = TfidfVectorizer()\n",
        "vectorizer.fit(labeled_data['message'])  # Fit on your data if not already done\n",
        "\n",
        "# Transform the labeled data\n",
        "X_labeled_tfidf = vectorizer.transform(labeled_data['message'])\n",
        "\n",
        "# Get true labels\n",
        "y_true = labeled_data['predicted_label']"
      ],
      "metadata": {
        "id": "BLyIDIqKaHfP"
      },
      "execution_count": null,
      "outputs": []
    },
    {
      "cell_type": "code",
      "source": [
        "from sklearn.linear_model import LogisticRegression\n",
        "\n",
        "# Train the model\n",
        "model = LogisticRegression()\n",
        "model.fit(X_labeled_tfidf, y_true)  # Fit the model on your TF-IDF data and true labels\n",
        "\n",
        "# Generate predictions\n",
        "y_pred = model.predict(X_labeled_tfidf)"
      ],
      "metadata": {
        "id": "aGswsPkReA-a"
      },
      "execution_count": null,
      "outputs": []
    },
    {
      "cell_type": "code",
      "source": [
        "from sklearn.metrics import accuracy_score\n",
        "\n",
        "# Assuming y_pred contains the model's predictions\n",
        "# Example: y_pred = model.predict(X_labeled_tfidf)\n",
        "\n",
        "# Calculate accuracy\n",
        "accuracy = accuracy_score(y_true, y_pred)\n",
        "\n",
        "# Print accuracy\n",
        "print(\"Model Accuracy:\", accuracy)"
      ],
      "metadata": {
        "colab": {
          "base_uri": "https://localhost:8080/"
        },
        "id": "GLmgQybIeJbH",
        "outputId": "4bed88d2-095a-4fd7-88ba-914b9ae43728"
      },
      "execution_count": null,
      "outputs": [
        {
          "output_type": "stream",
          "name": "stdout",
          "text": [
            "Model Accuracy: 0.9929184520323695\n"
          ]
        }
      ]
    },
    {
      "cell_type": "code",
      "source": [
        "#X_labeled_tfidf = vectorizer.transform(labeled_data['message'])\n",
        "\n",
        "# Get true labels\n",
        "#y_true = labeled_data['predicted_label']\n",
        "\n",
        "# Calculate frequency and percentage of each unique label in y_true\n",
        "label_counts = y_true.value_counts()\n",
        "label_percentages = (y_true.value_counts(normalize=True) * 100).round(2)\n",
        "# Display the results\n",
        "print(\"Frequency of each label:\")\n",
        "print(label_counts)\n",
        "\n",
        "print(\"\\nPercentage of each label:\")\n",
        "print(label_percentages.round(2).astype(str) + '%')"
      ],
      "metadata": {
        "id": "fuIjSKNTsk16",
        "colab": {
          "base_uri": "https://localhost:8080/"
        },
        "outputId": "cf9486e2-fb8b-4fe1-f437-468aeb7f2d4e"
      },
      "execution_count": null,
      "outputs": [
        {
          "output_type": "stream",
          "name": "stdout",
          "text": [
            "Frequency of each label:\n",
            "predicted_label\n",
            "ham     504582\n",
            "spam     12819\n",
            "Name: count, dtype: int64\n",
            "\n",
            "Percentage of each label:\n",
            "predicted_label\n",
            "ham     97.52%\n",
            "spam     2.48%\n",
            "Name: proportion, dtype: object\n"
          ]
        }
      ]
    }
  ],
  "metadata": {
    "colab": {
      "provenance": [],
      "toc_visible": true
    },
    "kernelspec": {
      "display_name": "Python 3",
      "name": "python3"
    },
    "language_info": {
      "name": "python"
    }
  },
  "nbformat": 4,
  "nbformat_minor": 0
}